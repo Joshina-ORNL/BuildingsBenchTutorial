{
 "cells": [
  {
   "attachments": {},
   "cell_type": "markdown",
   "metadata": {},
   "source": [
    "# aggregate_benchmark_results\n",
    "\n",
    "Compute aggregate median based on a summary from the DatasetMetricsManager.\n",
    "\n",
    "This tutorial assumes you have followed the [installation instructions](https://nrel.github.io/BuildingsBench/#installation) for BuildingsBench."
   ]
  },
  {
   "cell_type": "code",
   "execution_count": 1,
   "metadata": {},
   "outputs": [],
   "source": [
    "from buildings_bench.evaluation import aggregate\n",
    "import os \n",
    "\n",
    "%load_ext autoreload\n",
    "%autoreload 2"
   ]
  },
  {
   "cell_type": "markdown",
   "metadata": {},
   "source": [
    "After running the benchmark, a .csv file with prefix `metrics_*.csv` will be created for the accuracy metrics in the `results` directory (the default location of this directory is the base path of the BuildingsBench Github repo). If a ranked probability score is computed for your model, a separate .csv file with prefix `scoring_rule_*.csv` will also be created. We will load these files automatically and compute aggregate medians with confidence intervals (CIs). The median is across all buildings in the benchmark."
   ]
  },
  {
   "cell_type": "code",
   "execution_count": 4,
   "metadata": {},
   "outputs": [],
   "source": [
    "results_dir = '../results'\n",
    "metadata_dir = os.environ.get('BUILDINGS_BENCH', '') + '/metadata'\n",
    "\n",
    "oov =[]\n",
    "with open(metadata_dir + '/oov.txt', 'r') as f:\n",
    "    for l in f:\n",
    "        oov += [l.strip().split(' ')[1]]"
   ]
  },
  {
   "cell_type": "code",
   "execution_count": 5,
   "metadata": {},
   "outputs": [
    {
     "name": "stdout",
     "output_type": "stream",
     "text": [
      "model name\t building type\t metric name\t value (95% C.I.)\n",
      "==========================================================\n",
      "AveragePersistence residential cvrmse: 80.112 (0.783,0.826)\n",
      "AveragePersistence residential crps: 0.064 (0.063,0.065)\n",
      "AveragePersistence commercial cvrmse: 17.173 (0.164,0.182)\n",
      "AveragePersistence commercial crps: 5.386 (5.296,5.483)\n"
     ]
    }
   ],
   "source": [
    "# Returns a dictionary with the median of the cvrmse (nrmse) and crps metrics for each model \n",
    "# and boostrapped 95% confidence intervals\n",
    "results_dict = aggregate.return_aggregate_median(\n",
    "    model_list = ['AveragePersistence'],\n",
    "    results_dir = results_dir,\n",
    "    experiment = 'zero_shot',\n",
    "    metrics = ['cvrmse', 'crps'],\n",
    "    oov_list = oov\n",
    ")\n",
    "aggregate.pretty_print_aggregates(results_dict)"
   ]
  }
 ],
 "metadata": {
  "kernelspec": {
   "display_name": "Python 3 (ipykernel)",
   "language": "python",
   "name": "python3"
  },
  "language_info": {
   "codemirror_mode": {
    "name": "ipython",
    "version": 3
   },
   "file_extension": ".py",
   "mimetype": "text/x-python",
   "name": "python",
   "nbconvert_exporter": "python",
   "pygments_lexer": "ipython3",
   "version": "3.11.3"
  }
 },
 "nbformat": 4,
 "nbformat_minor": 4
}
