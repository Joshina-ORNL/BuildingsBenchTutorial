{
 "cells": [
  {
   "cell_type": "code",
   "execution_count": 2,
   "id": "7556ef40-83f8-4330-b3d2-1323ffba36ce",
   "metadata": {},
   "outputs": [],
   "source": [
    "# global variables for this tutorial\n",
    "\n",
    "# Set this to your BuildingsBench github repo path\n",
    "repo_path = 'pscratch/sd/n/nrushad/Dataset/'\n",
    "# This has to match the name of the .tomli file in the configs folder\n",
    "model_name = 'TransformerWithGaussian-S'\n",
    "# path to the checkpoint file you downloaded\n",
    "checkpoint = f'{repo_path}/checkpoints/Transformer_Gaussian_S.pt'\n",
    "# device, either 'cpu' or 'cuda:0'\n",
    "device = 'cuda:0'\n",
    "# dataset name\n",
    "dataset = 'electricity'\n",
    "# 'boxcox' if using the Gaussian model (continuous load values) else ''\n",
    "scaler_transform = 'boxcox'"
   ]
  },
  {
   "cell_type": "code",
   "execution_count": 3,
   "id": "b48ba432-e206-4d27-ad32-f0f106f0cd11",
   "metadata": {},
   "outputs": [
    {
     "ename": "ValueError",
     "evalue": "Config TransformerWithGaussian-S.toml not found.",
     "output_type": "error",
     "traceback": [
      "\u001b[0;31m---------------------------------------------------------------------------\u001b[0m",
      "\u001b[0;31mValueError\u001b[0m                                Traceback (most recent call last)",
      "Cell \u001b[0;32mIn[3], line 13\u001b[0m\n\u001b[1;32m     11\u001b[0m     model_args \u001b[38;5;241m=\u001b[39m toml_args[\u001b[38;5;124m'\u001b[39m\u001b[38;5;124mmodel\u001b[39m\u001b[38;5;124m'\u001b[39m]\n\u001b[1;32m     12\u001b[0m \u001b[38;5;28;01melse\u001b[39;00m:\n\u001b[0;32m---> 13\u001b[0m     \u001b[38;5;28;01mraise\u001b[39;00m \u001b[38;5;167;01mValueError\u001b[39;00m(\u001b[38;5;124mf\u001b[39m\u001b[38;5;124m'\u001b[39m\u001b[38;5;124mConfig \u001b[39m\u001b[38;5;132;01m{\u001b[39;00mmodel_name\u001b[38;5;132;01m}\u001b[39;00m\u001b[38;5;124m.toml not found.\u001b[39m\u001b[38;5;124m'\u001b[39m)\n\u001b[1;32m     15\u001b[0m \u001b[38;5;66;03m# Create the model and move it to the device\u001b[39;00m\n\u001b[1;32m     16\u001b[0m model, _, predict \u001b[38;5;241m=\u001b[39m model_factory(model_name, model_args)\n",
      "\u001b[0;31mValueError\u001b[0m: Config TransformerWithGaussian-S.toml not found."
     ]
    }
   ],
   "source": [
    "import tomli\n",
    "import os\n",
    "import torch\n",
    "from pathlib import Path \n",
    "from buildings_bench.models import model_factory\n",
    "\n",
    "# Load the model arguments from the .tomli file\n",
    "config_path = Path(f'{repo_path}/buildings_bench/configs')\n",
    "if (config_path / f'{model_name}.toml').exists():\n",
    "    toml_args = tomli.load(( config_path / f'{model_name}.toml').open('rb'))\n",
    "    model_args = toml_args['model']\n",
    "else:\n",
    "    raise ValueError(f'Config {model_name}.toml not found.')\n",
    "\n",
    "# Create the model and move it to the device\n",
    "model, _, predict = model_factory(model_name, model_args)\n",
    "model = model.to(device)\n",
    "\n",
    "# Load from the checkpoint\n",
    "model.load_from_checkpoint(checkpoint)\n",
    "model.eval()"
   ]
  },
  {
   "cell_type": "code",
   "execution_count": null,
   "id": "a3d7164d-5e82-481d-ba33-9b8fb4909e9c",
   "metadata": {},
   "outputs": [],
   "source": []
  }
 ],
 "metadata": {
  "kernelspec": {
   "display_name": "BuildingsBenchKernel",
   "language": "python",
   "name": "env"
  },
  "language_info": {
   "codemirror_mode": {
    "name": "ipython",
    "version": 3
   },
   "file_extension": ".py",
   "mimetype": "text/x-python",
   "name": "python",
   "nbconvert_exporter": "python",
   "pygments_lexer": "ipython3",
   "version": "3.10.18"
  }
 },
 "nbformat": 4,
 "nbformat_minor": 5
}
