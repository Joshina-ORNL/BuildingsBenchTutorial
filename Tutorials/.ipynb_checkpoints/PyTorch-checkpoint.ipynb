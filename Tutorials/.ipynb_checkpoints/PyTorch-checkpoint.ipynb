{
 "cells": [
  {
   "cell_type": "markdown",
   "id": "396d543f",
   "metadata": {},
   "source": [
    "# PyTorch 101"
   ]
  },
  {
   "cell_type": "markdown",
   "id": "e35aebb4",
   "metadata": {},
   "source": [
    "### STEP 1: Load Modules"
   ]
  },
  {
   "cell_type": "code",
   "execution_count": null,
   "id": "7f533c98",
   "metadata": {},
   "outputs": [],
   "source": [
    "# Load PyTorch module\n",
    "import torch"
   ]
  },
  {
   "cell_type": "markdown",
   "id": "c8b2cbe3-8c4a-4496-b870-5876fafdc7f8",
   "metadata": {},
   "source": [
    "### STEP 2: Explore Tensor Characteristics"
   ]
  },
  {
   "cell_type": "markdown",
   "id": "dca41615-55d9-4c79-b6ec-b8254fbffd0e",
   "metadata": {},
   "source": [
    "In this section, we explore key characteristics of PyTorch tensors, including their shape, data type, dimensionality, and how to access individual elements. Understanding these properties is essential for working effectively with tensors in deep learning and numerical computing tasks."
   ]
  },
  {
   "cell_type": "code",
   "execution_count": null,
   "id": "01e13564",
   "metadata": {
    "scrolled": true
   },
   "outputs": [
    {
     "name": "stdout",
     "output_type": "stream",
     "text": [
      "Tensor Data: \n",
      "tensor([[1, 2],\n",
      "        [3, 4],\n",
      "        [5, 6]])\n",
      "Tensor Type: <class 'torch.Tensor'>\n",
      "Tensor Shape: torch.Size([3, 2])\n",
      "Access Element [X-axis 2 || Y-axis 1]: 4\n"
     ]
    }
   ],
   "source": [
    "# Define a 2D list (3 rows x 2 columns)\n",
    "data = [[1,2], [3,4], [5,6]]\n",
    "\n",
    "# Convert the list into a PyTorch tensor\n",
    "tensor_data = torch.tensor(data)\n",
    "\n",
    "# Print the tensor content\n",
    "print(f'Tensor Data: \\n{tensor_data}')\n",
    "# Display the data type (should be torch.Tensor)\n",
    "print(f'Tensor Type: {type(tensor_data)}')\n",
    "# Display the shape of the tensor (3, 2)\n",
    "print(f'Tensor Shape: {tensor_data.shape}')\n",
    "# Access the element in row index 1 and column index 1 (i.e., second row, second column)\n",
    "print(f'Access Element [X-axis 2 || Y-axis 1]: {tensor_data[1][1]}')"
   ]
  },
  {
   "cell_type": "code",
   "execution_count": null,
   "id": "ae116084-d1db-405e-b966-0664df2cd11f",
   "metadata": {},
   "outputs": [
    {
     "name": "stdout",
     "output_type": "stream",
     "text": [
      "Tensor Data: \n",
      "tensor([[[0.4997, 0.7410, 0.7306, 0.3946],\n",
      "         [0.2932, 0.5696, 0.8455, 0.7932],\n",
      "         [0.9440, 0.1915, 0.4548, 0.6310],\n",
      "         [0.5303, 0.3856, 0.4613, 0.1263]],\n",
      "\n",
      "        [[0.5764, 0.6639, 0.3460, 0.3583],\n",
      "         [0.9575, 0.0430, 0.9089, 0.9298],\n",
      "         [0.9918, 0.4859, 0.6074, 0.7605],\n",
      "         [0.2766, 0.1484, 0.6388, 0.3928]],\n",
      "\n",
      "        [[0.5828, 0.3564, 0.1146, 0.3779],\n",
      "         [0.3630, 0.2981, 0.7494, 0.7664],\n",
      "         [0.9418, 0.6339, 0.0835, 0.3902],\n",
      "         [0.8138, 0.3381, 0.9962, 0.3698]],\n",
      "\n",
      "        [[0.0092, 0.3211, 0.1872, 0.4029],\n",
      "         [0.0466, 0.3723, 0.1464, 0.9470],\n",
      "         [0.2338, 0.0149, 0.0085, 0.2869],\n",
      "         [0.7536, 0.5853, 0.1648, 0.7620]]])\n",
      "Access Elements [X-axis 4]: \n",
      "tensor([[0.0092, 0.3211, 0.1872, 0.4029],\n",
      "        [0.0466, 0.3723, 0.1464, 0.9470],\n",
      "        [0.2338, 0.0149, 0.0085, 0.2869],\n",
      "        [0.7536, 0.5853, 0.1648, 0.7620]])\n",
      "Access Elements [X-axis 4 | Y-axis 1]: tensor([0.0466, 0.3723, 0.1464, 0.9470])\n",
      "Access Elements [X-axis 4 | Y-axis 1 | Z-axis 0]: 0.046570777893066406\n"
     ]
    }
   ],
   "source": [
    "# Create a 3D tensor with shape [4, 4, 4] filled with random values\n",
    "shape = (4,4,4)\n",
    "rand_tensor = torch.rand(shape)\n",
    "\n",
    "print(f'Tensor Data: \\n{rand_tensor}')\n",
    "# Access the 4th element along the X-axis (i.e., index 3)\n",
    "print(f'Access Elements [X-axis 4]: \\n{rand_tensor[3]}')\n",
    "# Access the 2nd element (index 1) along the Y-axis of the 4th X-slice\n",
    "print(f'Access Elements [X-axis 4 | Y-axis 1]: {rand_tensor[3][1]}')\n",
    "# Access the 1st element (index 0) along the Z-axis of the [X=4, Y=2] slice\n",
    "print(f'Access Elements [X-axis 4 | Y-axis 1 | Z-axis 0]: {rand_tensor[3][1][0]}')"
   ]
  },
  {
   "cell_type": "markdown",
   "id": "36a9b5db",
   "metadata": {},
   "source": [
    "### Excersice 1"
   ]
  },
  {
   "cell_type": "code",
   "execution_count": null,
   "id": "a14f4e47-1f47-4a90-9084-45bd27b83711",
   "metadata": {},
   "outputs": [],
   "source": [
    "# TODO:\n",
    "# Create a tensor with shape torch.Size([3, 3])\n",
    "# Access the following elements:\n",
    "# 1) Element at row 1, column 3  → tensor[0][2]\n",
    "# 2) Element at row 3, column 2  → tensor[2][1]"
   ]
  },
  {
   "cell_type": "markdown",
   "id": "90cc1412",
   "metadata": {},
   "source": [
    "### Excersice 2"
   ]
  },
  {
   "cell_type": "code",
   "execution_count": null,
   "id": "1bdb6114",
   "metadata": {},
   "outputs": [],
   "source": [
    "# TODO:\n",
    "# Create two tensors with shape (5, 2, 3): one filled with zeros and the other with ones.\n",
    "# Display (visualize) both tensors.\n",
    "# Hint: Use .zeros or .ones instead of .rand to initialize the tensors."
   ]
  },
  {
   "cell_type": "markdown",
   "id": "43eb016d-a226-4888-8a04-5e2f837ae375",
   "metadata": {},
   "source": [
    "### STEP 3: Tensor Arithmetic"
   ]
  },
  {
   "cell_type": "code",
   "execution_count": null,
   "id": "95415480",
   "metadata": {},
   "outputs": [
    {
     "name": "stdout",
     "output_type": "stream",
     "text": [
      "Tensor Addition: tensor([0.0000, 0.0909, 0.1667, 0.2308, 0.2857, 0.3333, 0.3750, 0.4118, 0.4444,\n",
      "        0.4737])\n"
     ]
    }
   ],
   "source": [
    "tensor_a = torch.arange(10)\n",
    "tensor_b = torch.linspace(10,19,10)\n",
    "\n",
    "tensor_c = tensor_a / tensor_b\n",
    "print(f'Tensor Addition: {tensor_c}')"
   ]
  },
  {
   "cell_type": "markdown",
   "id": "d2f5bafb-cbb5-4ecd-914e-b7131f2bca3c",
   "metadata": {},
   "source": [
    "### Excersice 3"
   ]
  },
  {
   "cell_type": "code",
   "execution_count": null,
   "id": "6b3ba665",
   "metadata": {},
   "outputs": [],
   "source": [
    "# TODO:\n",
    "# Perform element-wise subtraction, multiplication, and division between tensor_a and tensor_b."
   ]
  },
  {
   "cell_type": "markdown",
   "id": "44b9b1ae-0430-4550-aa19-335cabb266f4",
   "metadata": {},
   "source": [
    "### STEP 4: Torch Methods"
   ]
  },
  {
   "cell_type": "code",
   "execution_count": null,
   "id": "1532cbfa",
   "metadata": {},
   "outputs": [
    {
     "name": "stdout",
     "output_type": "stream",
     "text": [
      "Original Tensor: \n",
      "tensor([0.6552, 0.7459, 0.8339, 0.4281, 0.0934, 0.2279, 0.6972, 0.0862, 0.5770,\n",
      "        0.0037, 0.8553, 0.8084])\n",
      "Original Tensor Shape: torch.Size([12])\n",
      "Reshape Tensor: \n",
      "tensor([[[0.6552],\n",
      "         [0.7459],\n",
      "         [0.8339],\n",
      "         [0.4281]],\n",
      "\n",
      "        [[0.0934],\n",
      "         [0.2279],\n",
      "         [0.6972],\n",
      "         [0.0862]],\n",
      "\n",
      "        [[0.5770],\n",
      "         [0.0037],\n",
      "         [0.8553],\n",
      "         [0.8084]]])\n",
      "Reshape Tensor Shape: torch.Size([3, 4, 1])\n"
     ]
    }
   ],
   "source": [
    "# Create a 1D tensor with 12 random values\n",
    "torch_tensor = torch.rand(12)\n",
    "print(f'Original Tensor: \\n{torch_tensor}')\n",
    "print(f'Original Tensor Shape: {torch_tensor.shape}')\n",
    "\n",
    "# Reshape the tensor to shape (3, 4, 1)\n",
    "reshape_tensor = torch.reshape(torch_tensor, (3,4,1))\n",
    "print(f'Reshape Tensor: \\n{reshape_tensor}')\n",
    "print(f'Reshape Tensor Shape: {reshape_tensor.shape}')"
   ]
  },
  {
   "cell_type": "markdown",
   "id": "046ec9ad",
   "metadata": {},
   "source": [
    "### Other Important Torch Methods"
   ]
  },
  {
   "cell_type": "markdown",
   "id": "625ce44f-7277-49ec-87d5-859c2474af7d",
   "metadata": {},
   "source": [
    "I recommend reviewing the following documents, as they cover commonly used PyTorch methods for tensor manipulation during the development of deep learning models."
   ]
  },
  {
   "cell_type": "markdown",
   "id": "4a95ae9e",
   "metadata": {},
   "source": [
    "1) Squeeze: https://docs.pytorch.org/docs/stable/generated/torch.squeeze.html\n",
    "2) Unsqueeze: https://docs.pytorch.org/docs/stable/generated/torch.unsqueeze.html#torch.unsqueeze\n",
    "3) Concatenate: https://docs.pytorch.org/docs/stable/generated/torch.cat.html\n",
    "4) transpose: https://docs.pytorch.org/docs/stable/generated/torch.transpose.html#torch.transpose"
   ]
  }
 ],
 "metadata": {
  "kernelspec": {
   "display_name": "BuildingsBenchKernel",
   "language": "python",
   "name": "env"
  },
  "language_info": {
   "codemirror_mode": {
    "name": "ipython",
    "version": 3
   },
   "file_extension": ".py",
   "mimetype": "text/x-python",
   "name": "python",
   "nbconvert_exporter": "python",
   "pygments_lexer": "ipython3",
   "version": "3.10.17"
  }
 },
 "nbformat": 4,
 "nbformat_minor": 5
}
