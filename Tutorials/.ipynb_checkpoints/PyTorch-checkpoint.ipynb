{
 "cells": [
  {
   "cell_type": "markdown",
   "id": "396d543f",
   "metadata": {},
   "source": [
    "# PyTorch 101"
   ]
  },
  {
   "cell_type": "markdown",
   "id": "e35aebb4",
   "metadata": {},
   "source": [
    "### STEP 1: Load Modules"
   ]
  },
  {
   "cell_type": "code",
   "execution_count": null,
   "id": "7f533c98",
   "metadata": {},
   "outputs": [],
   "source": [
    "# Load PyTorch module\n",
    "import torch"
   ]
  },
  {
   "cell_type": "markdown",
   "id": "c8b2cbe3-8c4a-4496-b870-5876fafdc7f8",
   "metadata": {},
   "source": [
    "### STEP 2: Explore Tensor Characteristics"
   ]
  },
  {
   "cell_type": "markdown",
   "id": "dca41615-55d9-4c79-b6ec-b8254fbffd0e",
   "metadata": {},
   "source": [
    "In this section, we explore key characteristics of PyTorch tensors, including their shape, data type, dimensionality, and how to access individual elements. Understanding these properties is essential for working effectively with tensors in deep learning and numerical computing tasks."
   ]
  },
  {
   "cell_type": "code",
   "execution_count": null,
   "id": "01e13564",
   "metadata": {
    "scrolled": true
   },
   "outputs": [
    {
     "name": "stdout",
     "output_type": "stream",
     "text": [
      "Tensor Data: \n",
      "tensor([[1, 2],\n",
      "        [3, 4],\n",
      "        [5, 6]])\n",
      "Tensor Type: <class 'torch.Tensor'>\n",
      "Tensor Shape: torch.Size([3, 2])\n",
      "Access Element [X-axis 2 || Y-axis 1]: 4\n"
     ]
    }
   ],
   "source": [
    "# Define a 2D list (3 rows x 2 columns)\n",
    "data = [[1,2], [3,4], [5,6]]\n",
    "\n",
    "# Convert the list into a PyTorch tensor\n",
    "tensor_data = torch.tensor(data)\n",
    "\n",
    "# Print the tensor content\n",
    "print(f'Tensor Data: \\n{tensor_data}')\n",
    "# Display the data type (should be torch.Tensor)\n",
    "print(f'Tensor Type: {type(tensor_data)}')\n",
    "# Display the shape of the tensor (3, 2)\n",
    "print(f'Tensor Shape: {tensor_data.shape}')\n",
    "# Access the element in row index 1 and column index 1 (i.e., second row, second column)\n",
    "print(f'Access Element [X-axis 2 || Y-axis 1]: {tensor_data[1][1]}')"
   ]
  },
  {
   "cell_type": "markdown",
   "id": "36a9b5db",
   "metadata": {},
   "source": [
    "### Excersice 1"
   ]
  },
  {
   "cell_type": "code",
   "execution_count": null,
   "id": "a14f4e47-1f47-4a90-9084-45bd27b83711",
   "metadata": {},
   "outputs": [],
   "source": [
    "# TODO:\n",
    "# Create a tensor with shape torch.Size([3, 3])\n",
    "# Access the following elements:\n",
    "# 1) Element at row 1, column 3  → tensor[0][2]\n",
    "# 2) Element at row 3, column 2  → tensor[2][1]"
   ]
  },
  {
   "cell_type": "markdown",
   "id": "c6b32d6f-6f28-4de0-9282-94ecad946330",
   "metadata": {},
   "source": []
  },
  {
   "cell_type": "code",
   "execution_count": null,
   "id": "3a3e7549",
   "metadata": {},
   "outputs": [
    {
     "name": "stdout",
     "output_type": "stream",
     "text": [
      "Tensor Data: \n",
      "tensor([[[0.0161, 0.2912, 0.3196, 0.9208],\n",
      "         [0.5617, 0.2404, 0.7203, 0.2024],\n",
      "         [0.4995, 0.9216, 0.9679, 0.6319],\n",
      "         [0.0575, 0.2847, 0.8113, 0.7141]],\n",
      "\n",
      "        [[0.5660, 0.9428, 0.8132, 0.7125],\n",
      "         [0.3948, 0.9655, 0.0932, 0.4535],\n",
      "         [0.1287, 0.5420, 0.7626, 0.3984],\n",
      "         [0.6438, 0.6684, 0.9166, 0.7741]],\n",
      "\n",
      "        [[0.4403, 0.5308, 0.8367, 0.8943],\n",
      "         [0.1762, 0.0833, 0.2048, 0.7344],\n",
      "         [0.1642, 0.6339, 0.7577, 0.0320],\n",
      "         [0.3997, 0.0694, 0.7933, 0.8438]],\n",
      "\n",
      "        [[0.6778, 0.6108, 0.1939, 0.7795],\n",
      "         [0.4611, 0.2213, 0.8627, 0.3166],\n",
      "         [0.6746, 0.0587, 0.3529, 0.4546],\n",
      "         [0.1127, 0.9023, 0.5642, 0.2485]]])\n",
      "Access Elements [X-axis 4]: \n",
      "tensor([[0.6778, 0.6108, 0.1939, 0.7795],\n",
      "        [0.4611, 0.2213, 0.8627, 0.3166],\n",
      "        [0.6746, 0.0587, 0.3529, 0.4546],\n",
      "        [0.1127, 0.9023, 0.5642, 0.2485]])\n",
      "Access Elements [X-axis 4 | Y-axis 1]: tensor([0.4611, 0.2213, 0.8627, 0.3166])\n",
      "Access Elements [X-axis 4 | Y-axis 1 | Z-axis 0]: 0.4610695242881775\n"
     ]
    }
   ],
   "source": [
    "# Create a 3D tensor with shape [4, 4, 4] filled with random values\n",
    "shape = (4,4,4)\n",
    "rand_tensor = torch.rand(shape)\n",
    "\n",
    "print(f'Tensor Data: \\n{rand_tensor}')\n",
    "# Access the 4th element along the X-axis (i.e., index 3)\n",
    "print(f'Access Elements [X-axis 4]: \\n{rand_tensor[3]}')\n",
    "# Access the 2nd element (index 1) along the Y-axis of the 4th X-slice\n",
    "print(f'Access Elements [X-axis 4 | Y-axis 1]: {rand_tensor[3][1]}')\n",
    "# Access the 1st element (index 0) along the Z-axis of the [X=4, Y=2] slice\n",
    "print(f'Access Elements [X-axis 4 | Y-axis 1 | Z-axis 0]: {rand_tensor[3][1][0]}')"
   ]
  },
  {
   "cell_type": "markdown",
   "id": "90cc1412",
   "metadata": {},
   "source": [
    "### Excersice 2"
   ]
  },
  {
   "cell_type": "code",
   "execution_count": null,
   "id": "1bdb6114",
   "metadata": {},
   "outputs": [],
   "source": [
    "# TODO:\n",
    "# Create two tensors with shape (5, 2, 3): one filled with zeros and the other with ones.\n",
    "# Display (visualize) both tensors.\n",
    "# Hint: Use .zeros or .ones instead of .rand to initialize the tensors."
   ]
  },
  {
   "cell_type": "markdown",
   "id": "43eb016d-a226-4888-8a04-5e2f837ae375",
   "metadata": {},
   "source": [
    "### STEP 4: Tensor Arithmetic"
   ]
  },
  {
   "cell_type": "code",
   "execution_count": null,
   "id": "95415480",
   "metadata": {},
   "outputs": [
    {
     "name": "stdout",
     "output_type": "stream",
     "text": [
      "Tensor Addition: tensor([0.0000, 0.0909, 0.1667, 0.2308, 0.2857, 0.3333, 0.3750, 0.4118, 0.4444,\n",
      "        0.4737])\n"
     ]
    }
   ],
   "source": [
    "tensor_a = torch.arange(10)\n",
    "tensor_b = torch.linspace(10,19,10)\n",
    "\n",
    "tensor_c = tensor_a / tensor_b\n",
    "print(f'Tensor Addition: {tensor_c}')"
   ]
  },
  {
   "cell_type": "markdown",
   "id": "d2f5bafb-cbb5-4ecd-914e-b7131f2bca3c",
   "metadata": {},
   "source": [
    "### Excersice 3"
   ]
  },
  {
   "cell_type": "code",
   "execution_count": null,
   "id": "6b3ba665",
   "metadata": {},
   "outputs": [],
   "source": [
    "# TODO:\n",
    "# Perform element-wise subtraction, multiplication, and division between tensor_a and tensor_b."
   ]
  },
  {
   "cell_type": "markdown",
   "id": "44b9b1ae-0430-4550-aa19-335cabb266f4",
   "metadata": {},
   "source": [
    "### STEP 5: Torch Methods"
   ]
  },
  {
   "cell_type": "code",
   "execution_count": null,
   "id": "1532cbfa",
   "metadata": {},
   "outputs": [
    {
     "name": "stdout",
     "output_type": "stream",
     "text": [
      "Original Tensor: \n",
      "tensor([0.9827, 0.0331, 0.3353, 0.8395, 0.7346, 0.0558, 0.6981, 0.8546, 0.4210,\n",
      "        0.8374, 0.3807, 0.5797])\n",
      "Original Tensor Shape: torch.Size([12])\n",
      "Reshape Tensor: \n",
      "tensor([[[0.9827],\n",
      "         [0.0331],\n",
      "         [0.3353],\n",
      "         [0.8395]],\n",
      "\n",
      "        [[0.7346],\n",
      "         [0.0558],\n",
      "         [0.6981],\n",
      "         [0.8546]],\n",
      "\n",
      "        [[0.4210],\n",
      "         [0.8374],\n",
      "         [0.3807],\n",
      "         [0.5797]]])\n",
      "Reshape Tensor Shape: torch.Size([3, 4, 1])\n"
     ]
    }
   ],
   "source": [
    "# Create a 1D tensor with 12 random values\n",
    "torch_tensor = torch.rand(12)\n",
    "print(f'Original Tensor: \\n{torch_tensor}')\n",
    "print(f'Original Tensor Shape: {torch_tensor.shape}')\n",
    "\n",
    "# Reshape the tensor to shape (3, 4, 1)\n",
    "reshape_tensor = torch.reshape(torch_tensor, (3,4,1))\n",
    "print(f'Reshape Tensor: \\n{reshape_tensor}')\n",
    "print(f'Reshape Tensor Shape: {reshape_tensor.shape}')"
   ]
  },
  {
   "cell_type": "markdown",
   "id": "046ec9ad",
   "metadata": {},
   "source": [
    "## Other Important Torch Methods"
   ]
  },
  {
   "cell_type": "markdown",
   "id": "4a95ae9e",
   "metadata": {},
   "source": [
    "1) Squeeze: https://docs.pytorch.org/docs/stable/generated/torch.squeeze.html\n",
    "2) Unsqueeze: https://docs.pytorch.org/docs/stable/generated/torch.unsqueeze.html#torch.unsqueeze\n",
    "3) Concatenate: https://docs.pytorch.org/docs/stable/generated/torch.cat.html\n",
    "4) transpose: https://docs.pytorch.org/docs/stable/generated/torch.transpose.html#torch.transpose"
   ]
  }
 ],
 "metadata": {
  "kernelspec": {
   "display_name": "BuildingsBenchKernel",
   "language": "python",
   "name": "env"
  },
  "language_info": {
   "codemirror_mode": {
    "name": "ipython",
    "version": 3
   },
   "file_extension": ".py",
   "mimetype": "text/x-python",
   "name": "python",
   "nbconvert_exporter": "python",
   "pygments_lexer": "ipython3",
   "version": "3.10.17"
  }
 },
 "nbformat": 4,
 "nbformat_minor": 5
}
