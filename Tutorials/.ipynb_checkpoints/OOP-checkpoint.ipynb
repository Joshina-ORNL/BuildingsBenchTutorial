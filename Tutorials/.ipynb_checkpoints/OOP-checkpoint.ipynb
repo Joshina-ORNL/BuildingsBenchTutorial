{
 "cells": [
  {
   "cell_type": "markdown",
   "id": "07710e5b",
   "metadata": {},
   "source": [
    "# Object Oriented Programming (OOP) 101"
   ]
  },
  {
   "cell_type": "markdown",
   "id": "55364342",
   "metadata": {},
   "source": [
    "We will begin this project with a brief overview of Object-Oriented Programming (OOP). While you won’t be required to implement OOP syntax to complete the exercises in the later tutorials, we want to introduce you to OOP because it is an essential skill in the design and development of machine learning algorithms. OOP is a widely used programming paradigm, supported by many popular languages such as Python, C, and Java. Compared to the procedural programming paradigm, OOP organizes code into user-defined classes and objects, enabling machine learning engineers to design modular, reusable, and scalable programs. Most importantly, essential deep learning libraries such as PyTorch and TensorFlow are built on the OOP paradigm, so having a basic understanding enables us to fully leverage their capabilities. Now, let’s break down the example below. It will explain OOP classes, child classes, objects, and methods."
   ]
  },
  {
   "cell_type": "markdown",
   "id": "7b0c1522-12ad-4c32-8db0-5ab4b1719d91",
   "metadata": {},
   "source": [
    "### STEP 1: Introduction to Core Concepts"
   ]
  },
  {
   "cell_type": "markdown",
   "id": "e6dc8ad5-ff76-4ed0-baf2-c82744d16bef",
   "metadata": {},
   "source": [
    "1) Class: A class is a blueprint for creating objects. It defines the data (attributes) and behavior (methods) an object should have.\n",
    "In the example, MyCalculator is a class that provides mathematical operations like addition and percentage calculation.\n",
    "\n",
    "2) Constructor (\\_\\_init\\_\\_): A constructor is a special method that runs automatically when an object is created. It initializes the object's internal state.\n",
    "In MyCalculator, the init method takes parameter_1 and parameter_2 and assigns them to instance variables.\n",
    "\n",
    "3) Instance Variables: These are variables that belong to a specific object and are defined using self.\n",
    "In the example, self.parameter_1 and self.parameter_2 are instance variables that store the input values.\n",
    "\n",
    "4) Instance Methods: These are functions defined inside a class that operate on the object’s data. They always take self as the first argument.\n",
    "In MyCalculator, Add() and Percentage() are instance methods that use the instance variables to perform operations.\n",
    "\n",
    "5) Default Arguments: These allow methods to have optional parameters with default values.\n",
    "In Percentage(self, percent=10), the percent parameter defaults to 10 if no value is provided when the method is called.\n",
    "\n",
    "6) Object Instantiation: This refers to creating an instance (object) of a class using its constructor.\n",
    "In the code, calc = MyCalculator(5, 10) creates an object of the MyCalculator class with specific inputs.\n",
    "\n",
    "7) Main Guard (if \\_\\_name == \\_\\_\"main\"\\_\\_): This condition ensures that code inside it runs only when the file is executed directly, not when imported as a module.\n",
    "In the example, the calculator methods are called inside the if \\_\\_name\\_\\_ == \\_\\_\"main\"\\_\\_ block to ensure they only run during direct execution."
   ]
  },
  {
   "cell_type": "code",
   "execution_count": 1,
   "id": "1fc65e18",
   "metadata": {},
   "outputs": [
    {
     "name": "stdout",
     "output_type": "stream",
     "text": [
      "Addition: 15\n",
      "Percentage: 3.0\n"
     ]
    }
   ],
   "source": [
    "class MyCalculator:                                             \n",
    "    def __init__(self, parameter_1, parameter_2=None):  \n",
    "        # Initialize instance variables\n",
    "        self.parameter_1 = parameter_1                          \n",
    "        self.parameter_2 = parameter_2                          \n",
    "\n",
    "    # Return the sum of both parameters\n",
    "    def Add(self):                                              \n",
    "        return self.parameter_2 + self.parameter_1      \n",
    "\n",
    "    # Return the given percent of the sum\n",
    "    def Percentage(self, percent=10):                          \n",
    "        return self.Add() * percent/100\n",
    "\n",
    "if __name__ == \"__main__\":\n",
    "    # Create an instance of MyCalculator\n",
    "    calc = MyCalculator(5, 10)                                  \n",
    "    \n",
    "    # Perform addition and print the result\n",
    "    x = calc.Add()\n",
    "    print(f'Addition: {x}')\n",
    "    \n",
    "    # Calculate percentage of the sum and print the result\n",
    "    y = calc.Percentage(20)\n",
    "    print(f'Percentage: {y}')"
   ]
  },
  {
   "cell_type": "markdown",
   "id": "9866f140",
   "metadata": {},
   "source": [
    "### Excersice 1"
   ]
  },
  {
   "cell_type": "code",
   "execution_count": 4,
   "id": "75806439",
   "metadata": {},
   "outputs": [],
   "source": [
    "class MyCalculator:                                             \n",
    "    def __init__(self, parameter_1, parameter_2=None):          \n",
    "        self.parameter_1 = parameter_1                          \n",
    "        self.parameter_2 = parameter_2   \n",
    "\n",
    "    def Add(self):                                              \n",
    "        return self.parameter_2 + self.parameter_1             \n",
    "\n",
    "    # TODO:\n",
    "    # Subtract parameter_2 from parameter_1\n",
    "\n",
    "    # TODO:\n",
    "    # Multiply parameter_1 and parameter_2\n",
    "\n",
    "    # TODO:\n",
    "    # Divide parameter_1 by parameter_2 (with zero-division check)\n",
    "\n",
    "if __name__ == \"__main__\":\n",
    "    # TODO:\n",
    "    # Create an instance of MyCalculator\n",
    "    # Call Add method and print result\n",
    "    # Call Subtract method and print result \n",
    "    # Call Multiply method and print result\n",
    "    # Call Divide method and print result"
   ]
  },
  {
   "cell_type": "markdown",
   "id": "8adbbe96-7591-428c-ae97-228651830212",
   "metadata": {},
   "source": [
    "### STEP 3: OOP Inheritance"
   ]
  },
  {
   "cell_type": "markdown",
   "id": "a6a41923-b42a-4acd-8da3-9c24016c0293",
   "metadata": {},
   "source": [
    "1) Class: MyCalculator is a base class that defines reusable mathematical operations. It includes a method power_2 to return the square of a given number.\n",
    "\n",
    "2) Constructor: Both MyCalculator and Circle define constructors using the \\_\\_init\\_\\_ method. The Circle constructor initializes the radius and an optional pi value. It also calls super().\\_\\_init\\_\\_() to invoke the base class constructor.\n",
    "\n",
    "3) Inheritance: Circle inherits from MyCalculator. This allows Circle to access and reuse the power_2 method without redefining it.\n",
    "\n",
    "4) Instance Variables: self.radius and self.pi are instance variables specific to each Circle object. They store the input values passed during object creation.\n",
    "\n",
    "5) Instance Method: area() is an instance method of the Circle class. It calculates the area using the inherited power_2 method and the formula π × r²."
   ]
  },
  {
   "cell_type": "code",
   "execution_count": 2,
   "id": "07bfdf8f",
   "metadata": {},
   "outputs": [
    {
     "name": "stdout",
     "output_type": "stream",
     "text": [
      "Area: 78.5\n"
     ]
    }
   ],
   "source": [
    "# Base class for mathematical operations\n",
    "class MyCalculator:                                   \n",
    "    def __init__(self):   \n",
    "        # Base class constructor — no initialization needed here\n",
    "        pass                                          \n",
    "                                  \n",
    "    def power_2(self, parameter_1):                   \n",
    "        return parameter_1 * parameter_1\n",
    "\n",
    "# Subclass inheriting from MyCalculator\n",
    "class Circle(MyCalculator):                       \n",
    "    def __init__(self, radius, pi=3.14):  \n",
    "        # Call the constructor of the base class\n",
    "        super().__init__()                            \n",
    "        self.radius = radius    # Store the radius     \n",
    "        self.pi = pi            # Store the value of pi (default = 3.14)\n",
    "\n",
    "    # Method to compute the area of the circle\n",
    "    def area(self):                                   \n",
    "        return self.power_2(self.radius) * self.pi              \n",
    "       \n",
    "if __name__ == \"__main__\":\n",
    "    # Create an instance of the Circle class with radius = 5\n",
    "    calc = Circle(5)                              \n",
    "\n",
    "    # Compute and print the area\n",
    "    x = calc.area()                                   \n",
    "    print(f'Area: {x}')                     "
   ]
  },
  {
   "cell_type": "markdown",
   "id": "e2c768d5",
   "metadata": {},
   "source": [
    "### Excersice 2"
   ]
  },
  {
   "cell_type": "code",
   "execution_count": null,
   "id": "3abdce22",
   "metadata": {},
   "outputs": [],
   "source": [
    "class MyCalculator:                                   \n",
    "    def __init__(self):                               \n",
    "        pass    \n",
    "    \n",
    "    def power_2(self, parameter_1):                   \n",
    "        return parameter_1 * parameter_1                                  \n",
    "                   \n",
    "    # TODO:\n",
    "    # Create a method named power_3 to calculate (parameter_1 * parameter_1 * parameter_1)\n",
    "\n",
    "class Cylinder():\n",
    "    # TODO:\n",
    "    # Inherit from MyCalculator\n",
    "    # Define a constructor that takes radius, height, and pi as parameters\n",
    "    # Implement a method to calculate the volume of the cylinder using the formula: pi * r^2 * h\n",
    "    # Use the power_2 method from MyCalculator to compute r^2\n",
    "\n",
    "class Sphere():\n",
    "    # TODO:\n",
    "     # Inherit from MyCalculator\n",
    "    # Define a constructor that takes radius and pi as parameters\n",
    "    # Implement a method to calculate the volume of the sphere using the formula: (4/3) * pi * r^3   \n",
    "    # Use the power_3 method from MyCalculator to compute r^3      \n",
    "\n",
    "if __name__ == \"__main__\":\n",
    "    # TODO:\n",
    "    # Create an instance of the Cylinder class with a radius of 5 and height of 10\n",
    "    # Call the volume method and print the result\n",
    "\n",
    "    # TODO:\n",
    "    # Create an instance of the Sphere class with a radius of 5\n",
    "    # Call the volume method and print the result"
   ]
  },
  {
   "cell_type": "markdown",
   "id": "4a669b6a",
   "metadata": {},
   "source": [
    "# References \n",
    "\n",
    "1) https://www.geeksforgeeks.org/python-oops-concepts/\n",
    "2) https://www.indeed.com/career-advice/career-development/what-is-object-oriented-programming"
   ]
  }
 ],
 "metadata": {
  "kernelspec": {
   "display_name": "NERSC Python",
   "language": "python",
   "name": "python3"
  },
  "language_info": {
   "codemirror_mode": {
    "name": "ipython",
    "version": 3
   },
   "file_extension": ".py",
   "mimetype": "text/x-python",
   "name": "python",
   "nbconvert_exporter": "python",
   "pygments_lexer": "ipython3",
   "version": "3.11.7"
  }
 },
 "nbformat": 4,
 "nbformat_minor": 5
}
