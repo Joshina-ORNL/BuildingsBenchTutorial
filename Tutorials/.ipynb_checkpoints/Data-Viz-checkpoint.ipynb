{
 "cells": [
  {
   "cell_type": "markdown",
   "id": "4361e4b5",
   "metadata": {},
   "source": [
    "# Visualize Time-Series Data"
   ]
  },
  {
   "cell_type": "markdown",
   "id": "122cc5a6",
   "metadata": {},
   "source": [
    "In this exercise, you will visualize electricity usage (load) patterns over time using the 'buildings-900k-test' dataset from the BuildingsBench benchmark suite. You will begin by loading the dataset and exploring its key characteristics. As you progress, you will learn how to process and interpret timestamp information, which is essential for analyzing time-series data. You will then visualize energy usage trends at multiple time scales—yearly, monthly, and daily—to build familiarity with the dataset and uncover patterns. Along the way, you will use Matplotlib to create clear and insightful plots, while also reinforcing your understanding of object-oriented programming (OOP) principles. This exercise will introduce you to an essential phase of machine learning model development: exploratory data analysis."
   ]
  },
  {
   "cell_type": "markdown",
   "id": "e9aad361-5209-44bb-a791-4a9de30b2ec0",
   "metadata": {},
   "source": [
    "### STEP 1: Load Modules"
   ]
  },
  {
   "cell_type": "markdown",
   "id": "6423f0c9-40a2-4355-990f-fecbb608e2b2",
   "metadata": {},
   "source": [
    "This section imports essential Python libraries for processing timestamp data and visualizing time-series patterns. It uses numpy for array manipulation and matplotlib.pyplot for generating plots. Additionally, it loads the BuildingsBench module, which provides access to large-scale building energy datasets. "
   ]
  },
  {
   "cell_type": "code",
   "execution_count": 2,
   "id": "d4eee7ff",
   "metadata": {},
   "outputs": [],
   "source": [
    "from os import environ\n",
    "from warnings import filterwarnings\n",
    "\n",
    "from numpy import concatenate, datetime64, timedelta64\n",
    "from matplotlib.pyplot import figure, plot, show, xlabel, ylabel, xticks, yticks, gcf, title, tight_layout, grid\n",
    "\n",
    "from buildings_bench.transforms import TimestampTransform\n",
    "from buildings_bench import load_torch_dataset,  benchmark_registry"
   ]
  },
  {
   "cell_type": "markdown",
   "id": "85d0b731-fe01-4744-9fa1-88b7cfd9ac7e",
   "metadata": {},
   "source": [
    "### STEP 2: Environment Setup"
   ]
  },
  {
   "cell_type": "markdown",
   "id": "12f85f49-928d-42fe-8f73-63415a533d5e",
   "metadata": {},
   "source": [
    "We suppress Python warnings to improve the readability of the output—this step is optional but helpful. We also set the \"BUILDINGS_BENCH\" environment variable to point to the location of the BuildingsBench dataset on the system."
   ]
  },
  {
   "cell_type": "code",
   "execution_count": 3,
   "id": "54d59b30-4660-4bdf-a43a-4c0f2884409a",
   "metadata": {},
   "outputs": [],
   "source": [
    "# Silence FutureWarning messages\n",
    "filterwarnings(\"ignore\", category=FutureWarning)"
   ]
  },
  {
   "cell_type": "code",
   "execution_count": 4,
   "id": "d6872aa5",
   "metadata": {},
   "outputs": [],
   "source": [
    "# Sets an environment variable indicating the path to the dataset\n",
    "environ[\"BUILDINGS_BENCH\"] = \"/pscratch/sd/n/nrushad/BuildingsBench/BuildingsBench/\""
   ]
  },
  {
   "cell_type": "markdown",
   "id": "ddeb002f",
   "metadata": {},
   "source": [
    "### STEP 3: Explore buildings-900k-test Characters"
   ]
  },
  {
   "cell_type": "markdown",
   "id": "f72a926c-fe49-40eb-8e0d-621a1068ff4f",
   "metadata": {},
   "source": [
    "In this step, we load the BuildingsBench dataset and examine its structure to understand how the data is organized. The dataset is returned as a Python object containing a dictionary. This dictionary uses PUMA IDs (Public Use Microdata Areas) as keys, where each key maps to a list of individual building data entries. Each building entry includes time-series features such as energy load, day of the year, day of the week, and hour of the day."
   ]
  },
  {
   "cell_type": "code",
   "execution_count": 5,
   "id": "50cb8c5a",
   "metadata": {},
   "outputs": [
    {
     "name": "stdout",
     "output_type": "stream",
     "text": [
      "Available benchmark datasets,  ['buildings-900k-test', 'sceaux', 'borealis', 'ideal', 'bdg-2', 'bdg-2:panther', 'bdg-2:fox', 'bdg-2:rat', 'bdg-2:bear', 'electricity', 'smart', 'lcl']\n"
     ]
    }
   ],
   "source": [
    "# List of benchmark datasets registered in BuildingsBench\n",
    "print('Available benchmark datasets, ', benchmark_registry)"
   ]
  },
  {
   "cell_type": "code",
   "execution_count": null,
   "id": "8d31c327",
   "metadata": {},
   "outputs": [],
   "source": [
    "# Loads the \"buildings-900k-test\" dataset using a built-in function from the BuildingsBench library\n",
    "dataset = load_torch_dataset('buildings-900k-test')\n",
    "\n",
    "# Retrieves the .building_datasets attribute\n",
    "dataset = dataset.building_datasets"
   ]
  },
  {
   "cell_type": "code",
   "execution_count": null,
   "id": "011bba08",
   "metadata": {},
   "outputs": [],
   "source": [
    "# Prints the type of the dataset object.\n",
    "print('Dataset Type: ', type(dataset))\n",
    "\n",
    "# Prints the number of PUMA regions included in the data\n",
    "print('Dataset Length: ', len(dataset))"
   ]
  },
  {
   "cell_type": "code",
   "execution_count": null,
   "id": "6c4bdf66-ff32-4eb9-bc6f-b26e447c3489",
   "metadata": {
    "scrolled": true
   },
   "outputs": [],
   "source": [
    "# You noticed that the dataset type is dict, which refers to a dictionary in Python. A dictionary is an unordered collection of key-value pairs that allows you to store and retrieve data efficiently using unique keys.\n",
    "\n",
    "# Show only first 5 keys for brevity\n",
    "print('Dataset Keys: ', list(dataset.keys())[:5])\n",
    "\n",
    "# Show only first 5 values for brevity\n",
    "print('Dataset Values: ', list(dataset.values())[:5])"
   ]
  },
  {
   "cell_type": "markdown",
   "id": "5f2a3c04",
   "metadata": {},
   "source": [
    "### STEP 4: Visualize Dataset"
   ]
  },
  {
   "cell_type": "markdown",
   "id": "0d7a2176-bb0b-43b9-a7b5-0a53dc6fb2d4",
   "metadata": {},
   "source": [
    "This code defines a DataVisualization class that provides a structured way to visualize time-series data. It extracts load and timestamp information for a selected entry, converts the time features into readable datetime format, and plots the load over time. In the main block, two examples — one commercial (commercial_puma=G42000900/3960) and one residential (residential_puma=G06000702/233130) — are selected from different PUMA regions. Once you run the code, you will be able to visualize energy usage patterns for both PUMA IDs."
   ]
  },
  {
   "cell_type": "markdown",
   "id": "6ca39f46-5d71-4282-941c-7e62c1b565af",
   "metadata": {},
   "source": [
    "Acknowldgement: The code below is adapted from the BuildingsBench tutorial and formatted to fit the current exercise. The original code can be found here: https://github.com/NREL/BuildingsBench/blob/main/tutorials/dataset_quick_start.ipynb"
   ]
  },
  {
   "cell_type": "code",
   "execution_count": null,
   "id": "f775c421",
   "metadata": {},
   "outputs": [],
   "source": [
    "# Define a class for visualizing load time-series\n",
    "class DataVisualization:\n",
    "    def __init__(self, dataset, puma_id, idx=0):\n",
    "        # Get one building entry from specified PUMA and index\n",
    "        self.dataset = dataset[puma_id][idx]\n",
    "  \n",
    "    def load(self):\n",
    "        # Return load (energy usage) values\n",
    "        return self.dataset['load']\n",
    "\n",
    "    def dt(self):\n",
    "        # Convert time features to datetime\n",
    "        timestamp_transform = TimestampTransform()\n",
    "        timestamp = concatenate([\n",
    "            self.dataset['day_of_year'],       # Day index (1–365)\n",
    "            self.dataset['day_of_week'],       # Weekday (0–6)\n",
    "            self.dataset['hour_of_day']], -1)  # Hour (0–23)\n",
    "\n",
    "        # Restore to full timestamp\n",
    "        timestamp = timestamp_transform.undo_transform(timestamp)\n",
    "\n",
    "        # Compute datetime from start date\n",
    "        dt = datetime64('2018-01-01') + timedelta64(1, 'D') * (timestamp[..., 0] - 1) + timedelta64(1, 'h') * timestamp[..., -1]\n",
    "        \n",
    "        # datetime64('2018-01-01'): Base date we start counting from\n",
    "        \n",
    "        # timestamp[..., 0]: Day of the year (1 to 365)\n",
    "        # (timestamp[..., 0] - 1): Subtract 1 so that Jan 1 maps to 0 days\n",
    "        \n",
    "        # timedelta64(1, 'D') * (timestamp[..., 0] - 1): Calculates how many full days to add to the base date\n",
    "        # timestamp[..., -1]: Hour of the day (0 to 23)\n",
    "        # timedelta64(1, 'h') * timestamp[..., -1]: Calculates how many hours to add\n",
    "\n",
    "        return dt\n",
    "\n",
    "    def plot_load(self, dt, load, figsize=(20,6)):\n",
    "        figure(figsize=figsize)               # Establish a figure and its size\n",
    "        # Plot load vs. time with blue line and width 1\n",
    "        plot(dt.reshape(-1), load.reshape(-1), color='blue', linewidth=1)\n",
    "        ylabel('Load (kWh)', fontsize=16)     # Y-axis label\n",
    "        xlabel('Timestamp', fontsize=16)      # X-axis label\n",
    "        yticks(fontsize=12)                   # Y-axis ticks\n",
    "        xticks(fontsize=10)                   # X-axis ticks\n",
    "        show()                                # Display plot\n",
    "\n",
    "    def visualize(self):\n",
    "        # Retrieve datetime and load, then plot them\n",
    "        dt = self.dt()\n",
    "        load = self.load()\n",
    "        self.plot_load(dt, load)\n",
    "\n",
    "if __name__ == \"__main__\":\n",
    "    idx = 23  # Select day index\n",
    "\n",
    "    # Visualize commercial building\n",
    "    x = DataVisualization(dataset=dataset, puma_id='commercial_puma=G42000900/3960', idx=idx)\n",
    "    x.visualize()\n",
    "\n",
    "    # Visualize residential building\n",
    "    x = DataVisualization(dataset=dataset, puma_id='residential_puma=G06000702/233130', idx=idx)\n",
    "    x.visualize()"
   ]
  },
  {
   "cell_type": "markdown",
   "id": "3b34f49f",
   "metadata": {},
   "source": [
    "## Exercise 1"
   ]
  },
  {
   "cell_type": "markdown",
   "id": "59644f0e-f93d-43e9-8413-3a639cd5ec9b",
   "metadata": {},
   "source": [
    "In this exercise, you will explore energy load patterns for multiple buildings. Your task is to visualize the time-series load data for at least three commercial and three residential PUMA IDs. By changing the puma_id while keeping the index (idx=0) fixed, you can analyze how load patterns vary across different buildings. You are encouraged to use the provided example PUMA IDs or explore additional ones by printing the dataset keys.\n",
    "\n",
    "Commercial: \n",
    "1) 'commercial_puma=G42000900/4459' \n",
    "2) 'commercial_puma=G42000900/12468' \n",
    "3) 'commercial_puma=G42000900/40367'\n",
    "\n",
    "Residential: \n",
    "1) 'residential_puma=G42000900/5052' \n",
    "2) 'residential_puma=G42000900/41584' \n",
    "3) 'residential_puma=G42000900/126330'"
   ]
  },
  {
   "cell_type": "code",
   "execution_count": 2,
   "id": "1f435d72",
   "metadata": {},
   "outputs": [],
   "source": [
    "class DataVisualization:\n",
    "    def __init__(self, dataset, puma_id, idx=0):\n",
    "        self.dataset = dataset[puma_id][idx]\n",
    "  \n",
    "    def load(self):\n",
    "        return self.dataset['load']\n",
    "\n",
    "    def dt(self):\n",
    "        timestamp_transform = TimestampTransform()\n",
    "        timestamp = concatenate([\n",
    "            self.dataset['day_of_year'],    \n",
    "            self.dataset['day_of_week'],\n",
    "            self.dataset['hour_of_day']], -1)\n",
    "        timestamp = timestamp_transform.undo_transform(timestamp)\n",
    "        dt = datetime64(f'2018-01-01') + timedelta64(1, 'D') * (timestamp[...,0]-1) + timedelta64(1, 'h') * timestamp[...,-1]\n",
    "        return dt\n",
    "\n",
    "    def plot_load(self, dt, load, figsize=(20,6)):\n",
    "        figure(figsize=figsize)\n",
    "        plot(dt.reshape(-1), load.reshape(-1), color='blue', linewidth=1)\n",
    "        ylabel('Load (kWh)', fontsize=16)\n",
    "        xlabel('Timestamp', fontsize=16)\n",
    "        yticks(fontsize=12)\n",
    "        xticks(fontsize=10)\n",
    "        show()\n",
    "\n",
    "    def visualize(self):\n",
    "        dt = self.dt()\n",
    "        load = self.load()\n",
    "        self.plot_load(dt, load)\n",
    "        \n",
    "if __name__ == \"__main__\":\n",
    "    # TODO:\n",
    "    # Visualize the load data for idx = 0 using three PUMA IDs.\n",
    "    # You may use the three example PUMA IDs provided, or explore others of your choice."
   ]
  },
  {
   "cell_type": "markdown",
   "id": "bd321c4d",
   "metadata": {},
   "source": [
    "## Excersice 2"
   ]
  },
  {
   "cell_type": "markdown",
   "id": "bb6217ca-d243-4b33-b934-2d54831faa67",
   "metadata": {},
   "source": [
    "Similar to Exercise 1, you will explore time-series energy load data. However, instead of changing the puma_id, you will vary the index value (idx). Select one residential and one commercial PUMA ID from those used in Exercise 1. Each index corresponds to a specific day of the year (ranging from 0 to 364). By selecting three different index values for each PUMA ID, you can observe how load patterns change across different days for the same building. This will help you understand how energy usage fluctuates over the course of a year at a single location."
   ]
  },
  {
   "cell_type": "code",
   "execution_count": null,
   "id": "eecea925",
   "metadata": {},
   "outputs": [],
   "source": [
    "class DataVisualization:\n",
    "    def __init__(self, dataset, puma_id, idx=0):\n",
    "        self.dataset = dataset[puma_id][idx]\n",
    "  \n",
    "    def load(self):\n",
    "        return self.dataset['load']\n",
    "\n",
    "    def dt(self):\n",
    "        timestamp_transform = TimestampTransform()\n",
    "        timestamp = concatenate([\n",
    "            self.dataset['day_of_year'],    \n",
    "            self.dataset['day_of_week'],\n",
    "            self.dataset['hour_of_day']], -1)\n",
    "        timestamp = timestamp_transform.undo_transform(timestamp)\n",
    "        dt = datetime64(f'2018-01-01') + timedelta64(1, 'D') * (timestamp[...,0]-1) + timedelta64(1, 'h') * timestamp[...,-1]\n",
    "        return dt\n",
    "\n",
    "    def plot_load(self, dt, load, figsize=(20,6)):\n",
    "        figure(figsize=figsize)\n",
    "        plot(dt.reshape(-1), load.reshape(-1), color='blue', linewidth=1)\n",
    "        ylabel('Load (kWh)', fontsize=16)\n",
    "        xlabel('Timestamp', fontsize=16)\n",
    "        yticks(fontsize=12)\n",
    "        xticks(fontsize=10)\n",
    "        show()\n",
    "\n",
    "    def visualize(self):\n",
    "        dt = self.dt()\n",
    "        load = self.load()\n",
    "        self.plot_load(dt, load)\n",
    "        \n",
    "if __name__ == \"__main__\":\n",
    "    # TODO:\n",
    "    # Select one commercial and one residential PUMA ID used in Exercise 1\n",
    "    # Visualize the load data for three different index values within the range [0, 364]"
   ]
  },
  {
   "cell_type": "markdown",
   "id": "57d3202a",
   "metadata": {},
   "source": [
    "## Excersice 3"
   ]
  },
  {
   "cell_type": "markdown",
   "id": "936065b3",
   "metadata": {},
   "source": [
    "Use the residential and commercial PUMA IDs from Exercise 2, but select specific index values (idx) to observe patterns on U.S. holidays. Use the following index values to visualize energy load on:\n",
    "\n",
    "1) Martin Luther King Jr. Day → idx = 14\n",
    "2) Presidents Day → idx = 48\n",
    "3) Memorial Day → idx = 141\n",
    "\n",
    "Then, identify an appropriate idx for each of the following two holidays and visualize the load patterns:\n",
    "\n",
    "1) Independence Day → choose an idx in the range [175, 185]\n",
    "2) Labor Day → choose an idx in the range [235, 245]"
   ]
  },
  {
   "cell_type": "code",
   "execution_count": null,
   "id": "49291c0c",
   "metadata": {},
   "outputs": [],
   "source": [
    "class DataVisualization:\n",
    "    def __init__(self, dataset, puma_id, idx=0):\n",
    "        self.dataset = dataset[puma_id][idx]\n",
    "  \n",
    "    def load(self):\n",
    "        return self.dataset['load']\n",
    "\n",
    "    def dt(self):\n",
    "        timestamp_transform = TimestampTransform()\n",
    "        timestamp = concatenate([\n",
    "            self.dataset['day_of_year'],    \n",
    "            self.dataset['day_of_week'],\n",
    "            self.dataset['hour_of_day']], -1)\n",
    "        timestamp = timestamp_transform.undo_transform(timestamp)\n",
    "        dt = datetime64(f'2018-01-01') + timedelta64(1, 'D') * (timestamp[...,0]-1) + timedelta64(1, 'h') * timestamp[...,-1]\n",
    "        return dt\n",
    "\n",
    "    def plot_load(self, dt, load, figsize=(20,6)):\n",
    "        figure(figsize=figsize)\n",
    "        plot(dt.reshape(-1), load.reshape(-1), color='blue', linewidth=1)\n",
    "        ylabel('Load (kWh)', fontsize=16)\n",
    "        xlabel('Timestamp', fontsize=16)\n",
    "        yticks(fontsize=12)\n",
    "        xticks(fontsize=10)\n",
    "        show()\n",
    "\n",
    "    def visualize(self):\n",
    "        dt = self.dt()\n",
    "        load = self.load()\n",
    "        self.plot_load(dt, load)\n",
    "        \n",
    "if __name__ == \"__main__\":\n",
    "    # TODO:\n",
    "    # Create an instance of the DataVisualization class.\n",
    "    \n",
    "    # TODO:\n",
    "    # For the PUMA IDs identified in Exercise 2, visualize the load data for the following holidays:\n",
    "    # - Martin Luther King Jr. Day (MLK Day): idx = 14\n",
    "    # - Presidents Day: idx = 48\n",
    "    # - Memorial Day: idx = 141\n",
    "\n",
    "    # TODO:\n",
    "    # Identify the index values (idx) for the following holidays:\n",
    "    # - Independence Day (within the range [175, 185])\n",
    "    # - Labor Day (within the range [235, 245])\n",
    "    # Once identified, visualize the load data for both holidays using the PUMA IDs selected in Exercise 2."
   ]
  },
  {
   "cell_type": "markdown",
   "id": "416419b2",
   "metadata": {},
   "source": [
    "## Excersice 4"
   ]
  },
  {
   "cell_type": "markdown",
   "id": "3860689f",
   "metadata": {},
   "source": [
    "In this exercise, you will create visualizations of time-series load data at different time scales. Your task is to complete the methods and generate plots for:\n",
    "\n",
    "1) The entire year\n",
    "2) A selected month\n",
    "3) A specific day\n",
    "\n",
    "Each method should extract the relevant time range from the dataset and use the corresponding timestamps and load values to create a plot. Use formatted strings such as '2018-{month:02d}' or '2018-{month:02d}-{day:02d}' to filter data by month or day."
   ]
  },
  {
   "cell_type": "code",
   "execution_count": null,
   "id": "20de4732",
   "metadata": {},
   "outputs": [],
   "source": [
    "class DataVisualization:\n",
    "    def __init__(self, dataset, puma_id, idx=0):\n",
    "        self.dataset = dataset[puma_id].df\n",
    "\n",
    "    def plot_load(self, timestamp, load, figsize=(20,6)):\n",
    "        figure(figsize=figsize)\n",
    "        # TODO:\n",
    "        # Implement the plot function using timestamp and load\n",
    "        ylabel('Load (kWh)', fontsize=16)\n",
    "        xlabel('Timestamp', fontsize=16)\n",
    "        yticks(fontsize=12)\n",
    "        xticks(fontsize=10)\n",
    "        show()\n",
    "\n",
    "    def year_plot(self, figsize=(20,6)):\n",
    "        timestamp = self.dataset['power'].index  \n",
    "        load = self.dataset['power'].values\n",
    "        # TODO:\n",
    "        # Use the plot_load method to visualize the entire year's data\n",
    "    \n",
    "    def month_plot(self, month, figsize=(20,6)):\n",
    "        timestamp = self.dataset['power'][f'2018-{month:02d}'].index\n",
    "        # TODO:\n",
    "        # Initialize the corresponding load values for the selected month\n",
    "        # Use the plot_load method to visualize the selected month's data\n",
    "\n",
    "    def day_plot(self, day, month, figsize=(20,6)):\n",
    "        # TODO:\n",
    "        # Filter and initialize both timestamp and load for the given day and month\n",
    "        # Use {day:02d} and {month:02d} to format the date string correctly\n",
    "        # Use the plot_load method to visualize the selected day's data\n",
    "\n",
    "if __name__ == \"__main__\":\n",
    "    # TODO:\n",
    "    # Create an instance of the DataVisualization class\n",
    "    # Call year_plot, month_plot, and day_plot methods to visualize respective data"
   ]
  }
 ],
 "metadata": {
  "kernelspec": {
   "display_name": "BuildingsBenchKernel",
   "language": "python",
   "name": "env"
  },
  "language_info": {
   "codemirror_mode": {
    "name": "ipython",
    "version": 3
   },
   "file_extension": ".py",
   "mimetype": "text/x-python",
   "name": "python",
   "nbconvert_exporter": "python",
   "pygments_lexer": "ipython3",
   "version": "3.10.17"
  }
 },
 "nbformat": 4,
 "nbformat_minor": 5
}
