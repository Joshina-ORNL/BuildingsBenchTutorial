{
 "cells": [
  {
   "cell_type": "markdown",
   "id": "cb29f659-dd8c-48b3-a0e5-4ba386140113",
   "metadata": {},
   "source": [
    "# Conda Environment 101\n",
    "\n",
    "Conda is a package and environment manager that allows you to install software packages and manage isolated environments. It helps avoid version conflicts and keeps your projects organized. This tutorial requires the use of the terminal. To use Conda on Perlmutter, first load the Python module by running `module load python`. Once the module is loaded, you can access Conda by typing `conda`. Below is a list of essential commands needed to create a Conda kernel for running your tutorials and training deep learning models.\n",
    "\n",
    "| Command                        | Description                     |\n",
    "|-------------------------------|---------------------------------|\n",
    "| `conda create -n env python`  | Create a new environment        |\n",
    "| `conda activate env`          | Activate the environment        |\n",
    "| `conda install package`       | Install a package               |"
   ]
  },
  {
   "cell_type": "markdown",
   "id": "8d3f57a0-dd64-43a9-a9d2-8863a2e2c94a",
   "metadata": {},
   "source": []
  }
 ],
 "metadata": {
  "kernelspec": {
   "display_name": "BuildingsBenchKernel",
   "language": "python",
   "name": "env"
  },
  "language_info": {
   "codemirror_mode": {
    "name": "ipython",
    "version": 3
   },
   "file_extension": ".py",
   "mimetype": "text/x-python",
   "name": "python",
   "nbconvert_exporter": "python",
   "pygments_lexer": "ipython3",
   "version": "3.10.17"
  }
 },
 "nbformat": 4,
 "nbformat_minor": 5
}
