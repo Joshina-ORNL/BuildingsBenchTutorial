{
 "cells": [
  {
   "cell_type": "markdown",
   "id": "8bfe50e3-444c-4af3-afde-f41e8a3f9dd1",
   "metadata": {},
   "source": [
    "# Develop Conda Kernel"
   ]
  },
  {
   "cell_type": "markdown",
   "id": "4b6d803b-51ca-4e89-a14e-c23f49c8dcef",
   "metadata": {},
   "source": [
    "In this tutorial, you will create a `conda` kernel. Please do not skip this step, as it covers essential skills required to complete all upcoming tutorials."
   ]
  },
  {
   "cell_type": "markdown",
   "id": "5a82d2f0-4c07-49c5-bb0c-4f8b4ac4fd35",
   "metadata": {},
   "source": [
    "### `pip` 101\n",
    "\n",
    "`pip` is the standard package installer for Python. It allows you to install and manage additional libraries and dependencies that are not included in the Python standard library. To use `pip` on Perlmutter, first load the Python module by running module load python. Once the module is loaded, you can access `pip` from the terminal. Below is a list of essential commands for installing and managing packages in your environment.\n",
    "\n",
    "| Command         | Description                            |\n",
    "|------------------|----------------------------------------|\n",
    "| `pip install`    | Installs the specified Python package  |\n",
    "| `pip uninstall`  | Uninstalls the specified package       |\n",
    "| `pip show`       | Displays metadata about the package    |"
   ]
  },
  {
   "cell_type": "markdown",
   "id": "cb29f659-dd8c-48b3-a0e5-4ba386140113",
   "metadata": {},
   "source": [
    "### `conda` 101\n",
    "\n",
    "`conda` is a package and environment manager that allows you to install software packages and manage isolated environments. It helps avoid version conflicts and keeps your projects organized. This tutorial requires the use of the terminal. To use `conda` on Perlmutter, first load the Python module by running `module load python`. Once the module is loaded, you can access `conda` by typing `conda`. Below is a list of essential commands needed to create a `conda` kernel for running your tutorials and training deep learning models.\n",
    "\n",
    "\n",
    "| Command                       | Description                     |\n",
    "|-------------------------------|---------------------------------|\n",
    "| `conda create`                | Create a new environment        |\n",
    "| `conda activate`              | Activate the environment        |\n",
    "| `conda deactivate`            | Deactivate the environment      |\n",
    "| `conda install`               | Install a package               |"
   ]
  },
  {
   "cell_type": "markdown",
   "id": "081a3f75-0770-4355-9821-69c0476d0fe9",
   "metadata": {},
   "source": [
    "### STEP 1: Create a Conda Environment\n",
    "\n",
    "It is important to ensure that the Python module has been loaded before proceeding.\n",
    "\n",
    "This step creates a new `conda` environment named `myEnv` with Python version 3.11:\n",
    "- `-n myEnv`  specifies the name of the environment.\n",
    "- `python=3.11` sets the Python version to 3.11.\n",
    "- `-y` stands for \"yes\" and automatically confirms all prompts, so you won’t be asked for manual confirmation.\n",
    "\n",
    "`conda create -n myEnv python=3.11 -y`\n",
    "\n",
    "### STEP 2: Activate Environmnet\n",
    "\n",
    "You activate a Conda environment to install and work with Python packages.\n",
    "- Activate: `conda activate myEnv`\n",
    "\n",
    "### STEP 3: Install Packages\n",
    "\n",
    "Install the required packages using both `pip` and `conda` as needed. Some packages are available through `conda` channels, while others may need to be installed via `pip`.\n",
    "- Using `pip`: `pip install ipykernel`\n",
    "- Using `conda`: `conda install conda-forge::lightgbm`\n",
    "\n",
    "### STEP 4: Create a conda Kernel\n",
    "\n",
    "This command registers the `conda` environment as a Jupyter kernel, allowing it to be selected when running notebooks.\n",
    "`python -m ipykernel install --user --name env --display-name MyEnvironment`\n",
    "\n",
    "- python -m ipykernel install: Uses Python to install a new Jupyter kernel through the ipykernel module.\n",
    "- `--user`: Installs the kernel for the current user only, without requiring administrative privileges.\n",
    "- `--name env`: Sets the internal name of the kernel (used by Jupyter to identify the environment). Replace env with the actual environment name (e.g., buildings_bench).\n",
    "- `--display-name MyEnvironment`: Sets the display name that will appear in the Jupyter interface. Replace MyEnvironment with a readable name, such as Buildings Bench.\n",
    "\n",
    "### STEP 5: Confirm Kernel Creation\n",
    "Navigate to the Launcher, and under the Notebook section, the MyEnvironment kernel will be listed."
   ]
  },
  {
   "cell_type": "markdown",
   "id": "8755c646-2f93-429d-a4a3-95439605cdbd",
   "metadata": {},
   "source": [
    "### Excersice 1: Create `myEnv` Environment \n",
    "\n",
    "Create `conda` environment named `myEnv` with Python version 3.11.\n",
    "\n",
    "After activating the Conda environment, the environment name (e.g., (myEnv)) will appear before the terminal prompt. This indicates that the environment has been successfully activated.\n",
    "\n",
    "Once confirmed, create a file named `myFirstEnv.py` using the command `vi myFirstEnv.py`. Press `i` to enter insert mode, then type: `print(\"My First Conda Env\")`. Press `Esc`, then type `:wq` to save and exit the editor. Finally, run the script using: `python3 myFirstEnv.py`\n",
    "\n",
    "Exected Output: `My First Conda Env`\n",
    "\n",
    "Deactivate the `myEnv` environment. "
   ]
  },
  {
   "cell_type": "markdown",
   "id": "f8fc0e02-cc14-47d7-ae49-c861ba5e646d",
   "metadata": {},
   "source": [
    "### Excersice 2: Install Python Packages in `myEnv` Environment \n",
    "\n",
    "Activate the myEnv environment.\n",
    "\n",
    "Install the following modules:\n",
    "`numpy==2.0.0`\n",
    "`pandas==2.1.3`\n",
    "\n",
    "Run the following commands to view module information:\n",
    "`pip show numpy`\n",
    "`pip show pandas`\n",
    "\n",
    "Deactivate the `myEnv` environment."
   ]
  },
  {
   "cell_type": "markdown",
   "id": "0c393bd8-8f8e-4cdb-9637-840dbc62d4fd",
   "metadata": {},
   "source": [
    "### Excersice 3: Create `BuildingsBenchKernel` Kernel\n",
    "\n",
    "Create a `conda` environment named `BuildingsBenchEnv` with Python version 3.10.\n",
    "\n",
    "Install the following modules using pip (preferred) or conda if necessary. The versions of numpy and scipy have been intentionally specified—please do not modify them, and do not change the order of installation. Using the latest versions or altering the order may lead to errors. For simplicity, the specific error details are not explained here, but if interested, refer to this document: https://github.com/3dem/relion/issues/1226.\n",
    "- `numpy==1.26.0`\n",
    "- `scipy==1.11.2`\n",
    "- `ipykernel`\n",
    "- `nbconvert`\n",
    "- `buildings_bench`\n",
    "- `faiss-gpu` \n",
    "\n",
    "Please follow these steps to install `buildings_bench`. This will allow installation of the module in editable mode within the `conda` environment.\n",
    "- `git clone https://github.com/NREL/BuildingsBench.git`\n",
    "- `cd BuildingsBench`\n",
    "- `pip install -e \".[benchmark]\"`\n",
    "  \n",
    "Create a Jupyter kernel named `BuildingsBenchKernel`, and confirm that it appears in the list of available kernels within the Jupyter interface."
   ]
  }
 ],
 "metadata": {
  "kernelspec": {
   "display_name": "BuildingsBenchKernel",
   "language": "python",
   "name": "env"
  },
  "language_info": {
   "codemirror_mode": {
    "name": "ipython",
    "version": 3
   },
   "file_extension": ".py",
   "mimetype": "text/x-python",
   "name": "python",
   "nbconvert_exporter": "python",
   "pygments_lexer": "ipython3",
   "version": "3.10.18"
  }
 },
 "nbformat": 4,
 "nbformat_minor": 5
}
