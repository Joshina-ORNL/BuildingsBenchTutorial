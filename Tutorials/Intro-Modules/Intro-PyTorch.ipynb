{
 "cells": [
  {
   "cell_type": "markdown",
   "id": "396d543f",
   "metadata": {},
   "source": [
    "# PyTorch 101\n",
    "\n",
    "In my opinion, PyTorch is one of the most, if not the most, sought-after skills in today’s market. Proficiency in this library significantly increases your chances of securing a job or internship, even in the current job market. From job openings at tech companies like NVIDIA and Meta to national labs such as Oak Ridge National Laboratory, PyTorch is frequently listed as a required skill.\n",
    "\n",
    "The library itself is extensive, and I believe a one-week bootcamp may not be sufficient to cover it in depth. Therefore, it’s not feasible to address every aspect of PyTorch in this short tutorial. However, this tutorial aims to introduce you to PyTorch tensors, the fundamental data structure used in deep learning. \n",
    "\n",
    "In this tutorial, we explore the characteristics and operations of tensors, along with commonly used methods for tensor manipulation. This includes understanding tensor shape, dimensionality, accessing individual elements, performing mathematical operations, and reshaping tensors. The tutorial introduces foundational yet widely applicable tasks that are commonly used in both model training and code debugging."
   ]
  },
  {
   "cell_type": "code",
   "execution_count": 3,
   "id": "7f533c98",
   "metadata": {},
   "outputs": [],
   "source": [
    "# Load PyTorch module\n",
    "import torch"
   ]
  },
  {
   "cell_type": "markdown",
   "id": "a550cf32-6aa9-4981-8525-df51762e6b7e",
   "metadata": {},
   "source": [
    "## Tensor Characteristics  \n",
    "Read through the examples below, then complete the exercises using what you’ve learned.\n",
    "\n",
    "## Example 1  \n",
    "\n",
    "In this example, you’ll make a PyTorch tensor from a Python list and then explore how to reference different elements in the tensor.\n",
    "\n",
    "Note: Python uses zero-based indexing, so the indices run from 0 upward. That’s why index `[1][1]` references the element in the second row and second column.\n"
   ]
  },
  {
   "cell_type": "code",
   "execution_count": 7,
   "id": "01e13564",
   "metadata": {
    "scrolled": true
   },
   "outputs": [
    {
     "name": "stdout",
     "output_type": "stream",
     "text": [
      "Tensor Data: \n",
      "tensor([[1, 2],\n",
      "        [3, 4],\n",
      "        [5, 6]])\n",
      "Tensor Type: <class 'torch.Tensor'>\n",
      "Tensor Shape: torch.Size([3, 2])\n",
      "Access Element [X-axis 1 || Y-axis 1]: 4\n"
     ]
    }
   ],
   "source": [
    "# Define a 2D list (3 rows x 2 columns)\n",
    "data = [[1,2], [3,4], [5,6]]\n",
    "\n",
    "# Convert the list into a PyTorch tensor\n",
    "tensor_data = torch.tensor(data)\n",
    "\n",
    "# Print the tensor content\n",
    "print(f'Tensor Data: \\n{tensor_data}')\n",
    "# Display the data type (should be torch.Tensor)\n",
    "print(f'Tensor Type: {type(tensor_data)}')\n",
    "# Display the shape of the tensor (3, 2)\n",
    "print(f'Tensor Shape: {tensor_data.shape}')\n",
    "# Access the element in row index 1 and column index 1 (i.e., second row, second column)\n",
    "print(f'Access Element [X-axis 1 || Y-axis 1]: {tensor_data[1][1]}')"
   ]
  },
  {
   "cell_type": "markdown",
   "id": "985aecb0-6f5a-4c7e-a204-0fb25c8118de",
   "metadata": {},
   "source": [
    "## Example 2\n",
    "\n",
    "- `shape = (4, 4, 4)` is a tuple that defines the dimensions of the tensor we want to create.\n",
    "  - It means: **4 blocks (or layers)**, each with **4 rows** and **4 columns**.\n",
    "  - You can think of this as a 3D cube with X, Y, and Z axes.\n",
    "\n",
    "- `torch.rand(shape)` is a PyTorch function that creates a tensor filled with **random numbers between 0 and 1**.\n",
    "  - This will generate a tensor of shape `4 × 4 × 4`, matching the structure we specified.\n",
    "\n",
    "- The resulting `rand_tensor` is like a 3D array or cube.\n",
    "  - To access the 4th layer, we use `rand_tensor[3]`.\n",
    "\n",
    "> In the comments below, we give the X, Y, and Z coordinates in the way you would think of them if plotted on a 3D graph — with 0 at the origin and the first element labeled as 1, the second as 2, and so on.  \n",
    "> However, Python uses **zero-based indexing**, so the first element of the X-axis is at index `0`, the second at index `1`, and so on — always one behind the axis label.\n"
   ]
  },
  {
   "cell_type": "code",
   "execution_count": 9,
   "id": "ae116084-d1db-405e-b966-0664df2cd11f",
   "metadata": {},
   "outputs": [
    {
     "name": "stdout",
     "output_type": "stream",
     "text": [
      "Tensor Data: \n",
      "tensor([[[9.6080e-01, 9.2070e-01, 1.3224e-01, 3.1468e-01],\n",
      "         [6.5770e-01, 5.9393e-01, 8.4609e-01, 9.1408e-01],\n",
      "         [9.7229e-01, 6.7841e-02, 2.6427e-01, 4.7259e-01],\n",
      "         [7.4294e-01, 3.8384e-01, 7.0606e-01, 4.7537e-01]],\n",
      "\n",
      "        [[7.0542e-01, 3.7015e-01, 8.1564e-01, 2.9951e-01],\n",
      "         [7.2222e-01, 8.5313e-01, 4.2674e-01, 8.6185e-01],\n",
      "         [7.0511e-01, 2.5638e-01, 2.3325e-01, 5.0352e-01],\n",
      "         [6.0282e-01, 6.6364e-01, 9.9505e-01, 9.2501e-01]],\n",
      "\n",
      "        [[7.4308e-01, 3.1095e-01, 3.7137e-02, 1.2274e-01],\n",
      "         [2.8374e-01, 5.5940e-01, 2.9412e-01, 2.2812e-01],\n",
      "         [5.0115e-02, 9.4015e-01, 2.4921e-04, 6.7302e-01],\n",
      "         [8.5307e-02, 2.4080e-01, 7.1519e-01, 7.8064e-01]],\n",
      "\n",
      "        [[7.5131e-01, 6.5484e-01, 8.5819e-01, 9.2618e-01],\n",
      "         [9.4572e-01, 4.7035e-01, 5.1906e-01, 1.7131e-01],\n",
      "         [7.4271e-01, 6.8720e-01, 8.6346e-01, 8.5431e-01],\n",
      "         [9.8770e-01, 1.3601e-01, 9.8604e-01, 3.6114e-01]]])\n",
      "Access Elements [X-axis 4]: \n",
      "tensor([[0.7513, 0.6548, 0.8582, 0.9262],\n",
      "        [0.9457, 0.4704, 0.5191, 0.1713],\n",
      "        [0.7427, 0.6872, 0.8635, 0.8543],\n",
      "        [0.9877, 0.1360, 0.9860, 0.3611]])\n",
      "Access Elements [X-axis 4 | Y-axis 2]: tensor([0.9457, 0.4704, 0.5191, 0.1713])\n",
      "Access Elements [X-axis 4 | Y-axis 2 | Z-axis 1]: 0.9457200169563293\n"
     ]
    }
   ],
   "source": [
    "# Create a 3D tensor with shape [4, 4, 4] filled with random values\n",
    "shape = (4,4,4)\n",
    "rand_tensor = torch.rand(shape)\n",
    "\n",
    "print(f'Tensor Data: \\n{rand_tensor}')\n",
    "# Access the all elements of the of the 4th X-slice (i.e., index 3)\n",
    "print(f'Access Elements [X-axis 4]: \\n{rand_tensor[3]}')\n",
    "# Access the 2nd element (index 1) along the Y-axis of the 4th X-slice\n",
    "print(f'Access Elements [X-axis 4 | Y-axis 2]: {rand_tensor[3][1]}')\n",
    "# Access the 1st element (index 0) along the Z-axis of the [X=4, Y=2] slice\n",
    "print(f'Access Elements [X-axis 4 | Y-axis 2 | Z-axis 1]: {rand_tensor[3][1][0]}')"
   ]
  },
  {
   "cell_type": "markdown",
   "id": "36a9b5db",
   "metadata": {},
   "source": [
    "## Excersice 1"
   ]
  },
  {
   "cell_type": "code",
   "execution_count": 69,
   "id": "a14f4e47-1f47-4a90-9084-45bd27b83711",
   "metadata": {},
   "outputs": [],
   "source": [
    "# TODO:\n",
    "# Create a tensor with shape torch.Size([3, 3])\n",
    "# Access the following elements:\n",
    "# 1) Element at row 1, column 3  → tensor[0][2]\n",
    "# 2) Element at row 3, column 2  → tensor[2][1]"
   ]
  },
  {
   "cell_type": "markdown",
   "id": "90cc1412",
   "metadata": {},
   "source": [
    "## Excersice 2"
   ]
  },
  {
   "cell_type": "code",
   "execution_count": 70,
   "id": "1bdb6114",
   "metadata": {},
   "outputs": [],
   "source": [
    "# TODO:\n",
    "# Create two tensors with shape (5, 2, 3): one filled with zeros and the other with ones.\n",
    "# Display (visualize) both tensors.\n",
    "# Hint: Use .zeros or .ones instead of .rand to initialize the tensors."
   ]
  },
  {
   "cell_type": "markdown",
   "id": "43eb016d-a226-4888-8a04-5e2f837ae375",
   "metadata": {},
   "source": [
    "## Tensor Operations\n",
    "\n",
    "### Example 3\n",
    "In tensor operations like addition, the operation is performed element-wise:\n",
    "\n",
    "* tensor_a[0] is added to tensor_b[0]\n",
    "* tensor_a[1] is added to tensor_b[1]\n",
    "and so on.\n",
    "\n",
    "This principle applies to other operations like subtraction, multiplication, and division as well—each operation is applied to the corresponding elements of the tensors, assuming they are broadcast-compatible."
   ]
  },
  {
   "cell_type": "code",
   "execution_count": 11,
   "id": "95415480",
   "metadata": {},
   "outputs": [
    {
     "name": "stdout",
     "output_type": "stream",
     "text": [
      "tensor_a \n",
      "tensor([0, 1, 2, 3, 4, 5, 6, 7, 8, 9])\n",
      "tensor_b \n",
      "tensor([10., 11., 12., 13., 14., 15., 16., 17., 18., 19.])\n",
      "Tensor Addition: tensor([10., 12., 14., 16., 18., 20., 22., 24., 26., 28.])\n"
     ]
    }
   ],
   "source": [
    "tensor_a = torch.arange(10)\n",
    "tensor_b = torch.linspace(10,19,10)\n",
    "\n",
    "print(f'tensor_a \\n{tensor_a}')\n",
    "print(f'tensor_b \\n{tensor_b}')\n",
    "\n",
    "\n",
    "tensor_c = tensor_a + tensor_b\n",
    "print(f'Tensor Addition: {tensor_c}')"
   ]
  },
  {
   "cell_type": "markdown",
   "id": "d2f5bafb-cbb5-4ecd-914e-b7131f2bca3c",
   "metadata": {},
   "source": [
    "## Excersice 3"
   ]
  },
  {
   "cell_type": "code",
   "execution_count": 72,
   "id": "6b3ba665",
   "metadata": {},
   "outputs": [],
   "source": [
    "# TODO:\n",
    "# Perform element-wise subtraction, multiplication, and division between tensor_a and tensor_b."
   ]
  },
  {
   "cell_type": "markdown",
   "id": "44b9b1ae-0430-4550-aa19-335cabb266f4",
   "metadata": {},
   "source": [
    "## Torch Methods"
   ]
  },
  {
   "cell_type": "code",
   "execution_count": 73,
   "id": "1532cbfa",
   "metadata": {},
   "outputs": [
    {
     "name": "stdout",
     "output_type": "stream",
     "text": [
      "Original Tensor: \n",
      "tensor([0.9151, 0.9863, 0.4043, 0.9076, 0.4545, 0.6225, 0.0901, 0.3454, 0.6647,\n",
      "        0.5650, 0.9004, 0.5153])\n",
      "Original Tensor Shape: torch.Size([12])\n",
      "Reshape Tensor: \n",
      "tensor([[[0.9151],\n",
      "         [0.9863],\n",
      "         [0.4043],\n",
      "         [0.9076]],\n",
      "\n",
      "        [[0.4545],\n",
      "         [0.6225],\n",
      "         [0.0901],\n",
      "         [0.3454]],\n",
      "\n",
      "        [[0.6647],\n",
      "         [0.5650],\n",
      "         [0.9004],\n",
      "         [0.5153]]])\n",
      "Reshape Tensor Shape: torch.Size([3, 4, 1])\n"
     ]
    }
   ],
   "source": [
    "# Create a 1D tensor with 12 random values\n",
    "torch_tensor = torch.rand(12)\n",
    "print(f'Original Tensor: \\n{torch_tensor}')\n",
    "print(f'Original Tensor Shape: {torch_tensor.shape}')\n",
    "\n",
    "# Reshape the tensor to shape (3, 4, 1)\n",
    "reshape_tensor = torch.reshape(torch_tensor, (3,4,1))\n",
    "print(f'Reshape Tensor: \\n{reshape_tensor}')\n",
    "print(f'Reshape Tensor Shape: {reshape_tensor.shape}')"
   ]
  },
  {
   "cell_type": "markdown",
   "id": "046ec9ad",
   "metadata": {},
   "source": [
    "## Excersice 4"
   ]
  },
  {
   "cell_type": "code",
   "execution_count": 74,
   "id": "0c577393-2d27-4492-9d20-6de4606c1e0f",
   "metadata": {},
   "outputs": [],
   "source": [
    "# TODO\n",
    "# Create a tensor of size (3, 4) and print the tensor and its shape\n",
    "# Transpose the tensor using 3 different combinations of dimensions of your choice\n",
    "# Transpose documentation: https://pytorch.org/docs/stable/generated/torch.transpose.html\n",
    "# Print each transposed tensor and its shape to visualize the differences \n",
    "# between the transposed versions and the original tensor\n",
    "\n",
    "# TODO\n",
    "# Create a tensor of size (3, 1, 1) and print the tensor and its shape\n",
    "# Concatenate 4 such rand_tensors into one tensor\n",
    "# Concatenate: https://pytorch.org/docs/stable/generated/torch.cat.html\n",
    "# Print the concatenated tensor and its shape using dim=0, dim=1, and dim=2 \n",
    "# to visualize the difference between the concatenated tensor and the original"
   ]
  }
 ],
 "metadata": {
  "kernelspec": {
   "display_name": "BuildingsBenchKernel",
   "language": "python",
   "name": "buildingsbenchenv"
  },
  "language_info": {
   "codemirror_mode": {
    "name": "ipython",
    "version": 3
   },
   "file_extension": ".py",
   "mimetype": "text/x-python",
   "name": "python",
   "nbconvert_exporter": "python",
   "pygments_lexer": "ipython3",
   "version": "3.11.13"
  }
 },
 "nbformat": 4,
 "nbformat_minor": 5
}
