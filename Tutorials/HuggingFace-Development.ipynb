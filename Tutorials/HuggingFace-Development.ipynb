{
 "cells": [
  {
   "cell_type": "markdown",
   "id": "b57bc3ab-7525-41b3-8d2f-fdaa2d593404",
   "metadata": {},
   "source": [
    "# Use Pre-Trained Model"
   ]
  },
  {
   "cell_type": "code",
   "execution_count": 4,
   "id": "a5cfe292-a0a7-40a1-865f-bcb7bdda0d1c",
   "metadata": {},
   "outputs": [],
   "source": [
    "import warnings\n",
    "warnings.filterwarnings(\"ignore\", category=FutureWarning)\n",
    "import torch\n",
    "import tomli\n",
    "import matplotlib.pyplot as plt\n",
    "from os import environ\n",
    "from pathlib import Path\n",
    "from buildings_bench import load_torch_dataset\n",
    "from buildings_bench.models import model_factory"
   ]
  },
  {
   "cell_type": "code",
   "execution_count": 6,
   "id": "cdaeff6e-475d-460d-8bd3-aad9551fa2af",
   "metadata": {},
   "outputs": [],
   "source": [
    "class DataHandler:\n",
    "    def __init__(self): pass\n",
    "\n",
    "    def load_dataset(self, dataset_name, scaler_transform):\n",
    "        dataset = load_torch_dataset(\n",
    "            name=dataset_name,\n",
    "            apply_scaler_transform=scaler_transform,\n",
    "            scaler_transform_path=Path(environ[\"TRANSFORM_PATH\"])\n",
    "        )\n",
    "        return dataset\n",
    "\n",
    "    def create_dataloader(self, building_dataset):\n",
    "        dataloader = torch.utils.data.DataLoader(\n",
    "                        building_dataset,\n",
    "                        batch_size=360,\n",
    "                        shuffle=False)\n",
    "        return dataloader"
   ]
  },
  {
   "cell_type": "code",
   "execution_count": null,
   "id": "6cb4a524-3d1d-418b-8604-a1bdf838bd57",
   "metadata": {},
   "outputs": [],
   "source": []
  },
  {
   "cell_type": "code",
   "execution_count": 7,
   "id": "7556ef40-83f8-4330-b3d2-1323ffba36ce",
   "metadata": {},
   "outputs": [],
   "source": [
    "def main(dataset_name, scaler_transform, device):\n",
    "    handler = DataHandler()\n",
    "    dataset = handler.load_dataset(dataset_name, scaler_transform)    \n",
    "\n",
    "    target_list = []\n",
    "    prediction_list = []\n",
    "    \n",
    "    for building_id, building_dataset in dataset:\n",
    "        \n",
    "        inverse_transform = building_dataset.datasets[0].load_transform.undo_transform\n",
    "        dataloader = handler.create_dataloader(building_dataset)\n",
    "        \n",
    "        for batch in dataloader:\n",
    "            for key, value in batch.items():\n",
    "                batch[key] = value.to(device)\n",
    "\n",
    "            with torch.cuda.amp.autocast(enabled=(device == 'cuda:0')):\n",
    "                predictions = model(batch)\n",
    "        \n",
    "            targets = batch['load'][:, context_len:]\n",
    "            targets = inverse_transform(targets)\n",
    "            target_list.append(targets.detach().cpu())\n",
    "            \n",
    "            predictions = inverse_transform(predictions)\n",
    "            prediction_list.append(predictions.detach().cpu())\n",
    "\n",
    "    prediction_list = torch.cat(prediction_list)\n",
    "    target_list = torch.cat(target_list)\n",
    "    \n",
    "    return prediction_list, target_list"
   ]
  },
  {
   "cell_type": "code",
   "execution_count": 9,
   "id": "c7f9e4bf-d884-480d-a774-2fe2ff9e58c7",
   "metadata": {},
   "outputs": [
    {
     "ename": "TypeError",
     "evalue": "TimeSeriesTransformerForPrediction.forward() missing 2 required positional arguments: 'past_time_features' and 'past_observed_mask'",
     "output_type": "error",
     "traceback": [
      "\u001b[0;31m---------------------------------------------------------------------------\u001b[0m",
      "\u001b[0;31mTypeError\u001b[0m                                 Traceback (most recent call last)",
      "Cell \u001b[0;32mIn[9], line 16\u001b[0m\n\u001b[1;32m     13\u001b[0m environ[\u001b[38;5;124m\"\u001b[39m\u001b[38;5;124mBUILDINGS_BENCH\u001b[39m\u001b[38;5;124m\"\u001b[39m] \u001b[38;5;241m=\u001b[39m \u001b[38;5;124mf\u001b[39m\u001b[38;5;124m'\u001b[39m\u001b[38;5;132;01m{\u001b[39;00mPATH\u001b[38;5;132;01m}\u001b[39;00m\u001b[38;5;124m/Dataset\u001b[39m\u001b[38;5;124m'\u001b[39m\n\u001b[1;32m     14\u001b[0m environ[\u001b[38;5;124m\"\u001b[39m\u001b[38;5;124mTRANSFORM_PATH\u001b[39m\u001b[38;5;124m\"\u001b[39m] \u001b[38;5;241m=\u001b[39m \u001b[38;5;124mf\u001b[39m\u001b[38;5;124m'\u001b[39m\u001b[38;5;132;01m{\u001b[39;00mPATH\u001b[38;5;132;01m}\u001b[39;00m\u001b[38;5;124m/Dataset/metadata/transforms\u001b[39m\u001b[38;5;124m'\u001b[39m\n\u001b[0;32m---> 16\u001b[0m prediction_list, target_list \u001b[38;5;241m=\u001b[39m \u001b[43mmain\u001b[49m\u001b[43m(\u001b[49m\u001b[43mDATASET\u001b[49m\u001b[43m,\u001b[49m\u001b[43m \u001b[49m\u001b[43mSCALER_TRANSFORM\u001b[49m\u001b[43m,\u001b[49m\u001b[43m \u001b[49m\u001b[43mDEVICE\u001b[49m\u001b[43m)\u001b[49m\n\u001b[1;32m     17\u001b[0m \u001b[38;5;66;03m# plt.plot(prediction_list[0].squeeze())\u001b[39;00m\n\u001b[1;32m     18\u001b[0m \u001b[38;5;66;03m# plt.plot(target_list[0].squeeze())\u001b[39;00m\n",
      "Cell \u001b[0;32mIn[7], line 20\u001b[0m, in \u001b[0;36mmain\u001b[0;34m(dataset_name, scaler_transform, device)\u001b[0m\n\u001b[1;32m     17\u001b[0m     batch[key] \u001b[38;5;241m=\u001b[39m value\u001b[38;5;241m.\u001b[39mto(device)\n\u001b[1;32m     19\u001b[0m \u001b[38;5;28;01mwith\u001b[39;00m torch\u001b[38;5;241m.\u001b[39mcuda\u001b[38;5;241m.\u001b[39mamp\u001b[38;5;241m.\u001b[39mautocast(enabled\u001b[38;5;241m=\u001b[39m(device \u001b[38;5;241m==\u001b[39m \u001b[38;5;124m'\u001b[39m\u001b[38;5;124mcuda:0\u001b[39m\u001b[38;5;124m'\u001b[39m)):\n\u001b[0;32m---> 20\u001b[0m     predictions \u001b[38;5;241m=\u001b[39m \u001b[43mmodel\u001b[49m\u001b[43m(\u001b[49m\u001b[43mbatch\u001b[49m\u001b[43m)\u001b[49m\n\u001b[1;32m     22\u001b[0m targets \u001b[38;5;241m=\u001b[39m batch[\u001b[38;5;124m'\u001b[39m\u001b[38;5;124mload\u001b[39m\u001b[38;5;124m'\u001b[39m][:, context_len:]\n\u001b[1;32m     23\u001b[0m targets \u001b[38;5;241m=\u001b[39m inverse_transform(targets)\n",
      "File \u001b[0;32m~/.conda/envs/BuildingsBenchEnv/lib/python3.10/site-packages/torch/nn/modules/module.py:1553\u001b[0m, in \u001b[0;36mModule._wrapped_call_impl\u001b[0;34m(self, *args, **kwargs)\u001b[0m\n\u001b[1;32m   1551\u001b[0m     \u001b[38;5;28;01mreturn\u001b[39;00m \u001b[38;5;28mself\u001b[39m\u001b[38;5;241m.\u001b[39m_compiled_call_impl(\u001b[38;5;241m*\u001b[39margs, \u001b[38;5;241m*\u001b[39m\u001b[38;5;241m*\u001b[39mkwargs)  \u001b[38;5;66;03m# type: ignore[misc]\u001b[39;00m\n\u001b[1;32m   1552\u001b[0m \u001b[38;5;28;01melse\u001b[39;00m:\n\u001b[0;32m-> 1553\u001b[0m     \u001b[38;5;28;01mreturn\u001b[39;00m \u001b[38;5;28;43mself\u001b[39;49m\u001b[38;5;241;43m.\u001b[39;49m\u001b[43m_call_impl\u001b[49m\u001b[43m(\u001b[49m\u001b[38;5;241;43m*\u001b[39;49m\u001b[43margs\u001b[49m\u001b[43m,\u001b[49m\u001b[43m \u001b[49m\u001b[38;5;241;43m*\u001b[39;49m\u001b[38;5;241;43m*\u001b[39;49m\u001b[43mkwargs\u001b[49m\u001b[43m)\u001b[49m\n",
      "File \u001b[0;32m~/.conda/envs/BuildingsBenchEnv/lib/python3.10/site-packages/torch/nn/modules/module.py:1562\u001b[0m, in \u001b[0;36mModule._call_impl\u001b[0;34m(self, *args, **kwargs)\u001b[0m\n\u001b[1;32m   1557\u001b[0m \u001b[38;5;66;03m# If we don't have any hooks, we want to skip the rest of the logic in\u001b[39;00m\n\u001b[1;32m   1558\u001b[0m \u001b[38;5;66;03m# this function, and just call forward.\u001b[39;00m\n\u001b[1;32m   1559\u001b[0m \u001b[38;5;28;01mif\u001b[39;00m \u001b[38;5;129;01mnot\u001b[39;00m (\u001b[38;5;28mself\u001b[39m\u001b[38;5;241m.\u001b[39m_backward_hooks \u001b[38;5;129;01mor\u001b[39;00m \u001b[38;5;28mself\u001b[39m\u001b[38;5;241m.\u001b[39m_backward_pre_hooks \u001b[38;5;129;01mor\u001b[39;00m \u001b[38;5;28mself\u001b[39m\u001b[38;5;241m.\u001b[39m_forward_hooks \u001b[38;5;129;01mor\u001b[39;00m \u001b[38;5;28mself\u001b[39m\u001b[38;5;241m.\u001b[39m_forward_pre_hooks\n\u001b[1;32m   1560\u001b[0m         \u001b[38;5;129;01mor\u001b[39;00m _global_backward_pre_hooks \u001b[38;5;129;01mor\u001b[39;00m _global_backward_hooks\n\u001b[1;32m   1561\u001b[0m         \u001b[38;5;129;01mor\u001b[39;00m _global_forward_hooks \u001b[38;5;129;01mor\u001b[39;00m _global_forward_pre_hooks):\n\u001b[0;32m-> 1562\u001b[0m     \u001b[38;5;28;01mreturn\u001b[39;00m \u001b[43mforward_call\u001b[49m\u001b[43m(\u001b[49m\u001b[38;5;241;43m*\u001b[39;49m\u001b[43margs\u001b[49m\u001b[43m,\u001b[49m\u001b[43m \u001b[49m\u001b[38;5;241;43m*\u001b[39;49m\u001b[38;5;241;43m*\u001b[39;49m\u001b[43mkwargs\u001b[49m\u001b[43m)\u001b[49m\n\u001b[1;32m   1564\u001b[0m \u001b[38;5;28;01mtry\u001b[39;00m:\n\u001b[1;32m   1565\u001b[0m     result \u001b[38;5;241m=\u001b[39m \u001b[38;5;28;01mNone\u001b[39;00m\n",
      "\u001b[0;31mTypeError\u001b[0m: TimeSeriesTransformerForPrediction.forward() missing 2 required positional arguments: 'past_time_features' and 'past_observed_mask'"
     ]
    }
   ],
   "source": [
    "if __name__ == \"__main__\":\n",
    "\n",
    "    DATASET = 'electricity'\n",
    "    DEVICE = 'cuda:0'\n",
    "    MODEL = 'MyModel'\n",
    "    SCALER_TRANSFORM = 'boxcox'\n",
    "\n",
    "    PATH = '/pscratch/sd/n/nrushad'\n",
    "    environ[\"PATH\"] = PATH\n",
    "    \n",
    "    environ[\"REPO_PATH\"] = f'{PATH}/BuildingsBenchTutorial/BuildingsBench/'\n",
    "    environ[\"CONFIG_PATH\"] = f'{PATH}/BuildingsBenchTutorial/BuildingsBench/buildings_bench/configs/{MODEL}.toml'\n",
    "    environ[\"BUILDINGS_BENCH\"] = f'{PATH}/Dataset'\n",
    "    environ[\"TRANSFORM_PATH\"] = f'{PATH}/Dataset/metadata/transforms'\n",
    "    \n",
    "    prediction_list, target_list = main(DATASET, SCALER_TRANSFORM, DEVICE)\n",
    "    # plt.plot(prediction_list[0].squeeze())\n",
    "    # plt.plot(target_list[0].squeeze())"
   ]
  },
  {
   "cell_type": "code",
   "execution_count": null,
   "id": "0c9d2b78-b7f6-486f-aeef-c88f3ce98dc0",
   "metadata": {},
   "outputs": [],
   "source": []
  }
 ],
 "metadata": {
  "kernelspec": {
   "display_name": "BuildingsBenchKernel",
   "language": "python",
   "name": "env"
  },
  "language_info": {
   "codemirror_mode": {
    "name": "ipython",
    "version": 3
   },
   "file_extension": ".py",
   "mimetype": "text/x-python",
   "name": "python",
   "nbconvert_exporter": "python",
   "pygments_lexer": "ipython3",
   "version": "3.10.18"
  }
 },
 "nbformat": 4,
 "nbformat_minor": 5
}
