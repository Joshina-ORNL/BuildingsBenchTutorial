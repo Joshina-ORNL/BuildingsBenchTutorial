{
 "cells": [
  {
   "cell_type": "markdown",
   "id": "cb29f659-dd8c-48b3-a0e5-4ba386140113",
   "metadata": {},
   "source": [
    "# Conda Environment"
   ]
  },
  {
   "cell_type": "markdown",
   "id": "8d3f57a0-dd64-43a9-a9d2-8863a2e2c94a",
   "metadata": {},
   "source": [
    "Conda is a package and environment manager that helps you install software packages and manage isolated environments. This is useful for avoiding version conflicts and keeping your projects organized."
   ]
  },
  {
   "cell_type": "markdown",
   "id": "11f26515-a81b-4fbb-bdf6-c097e5c8fb7b",
   "metadata": {},
   "source": [
    "### STEP 1: Access Conda"
   ]
  },
  {
   "cell_type": "markdown",
   "id": "e6c3ef0b-9bbf-45b3-ac67-5a2b311bff06",
   "metadata": {},
   "source": [
    "To use Conda on Perlmutter, you first need to load the Python module that includes Conda. \n",
    "\n",
    "Here's how you do it: __module load python__"
   ]
  },
  {
   "cell_type": "markdown",
   "id": "5dcb936d-fc43-4bd4-824c-bd3c46c92b91",
   "metadata": {},
   "source": [
    "### STEP 2: Verify Conda Access"
   ]
  },
  {
   "cell_type": "markdown",
   "id": "f501dd6a-b955-4bcf-b04b-84619a919e67",
   "metadata": {},
   "source": []
  },
  {
   "cell_type": "markdown",
   "id": "be56d18a-6c98-425e-8446-fd392bc8facb",
   "metadata": {},
   "source": []
  }
 ],
 "metadata": {
  "kernelspec": {
   "display_name": "BuildingsBenchKernel",
   "language": "python",
   "name": "env"
  },
  "language_info": {
   "codemirror_mode": {
    "name": "ipython",
    "version": 3
   },
   "file_extension": ".py",
   "mimetype": "text/x-python",
   "name": "python",
   "nbconvert_exporter": "python",
   "pygments_lexer": "ipython3",
   "version": "3.10.17"
  }
 },
 "nbformat": 4,
 "nbformat_minor": 5
}
