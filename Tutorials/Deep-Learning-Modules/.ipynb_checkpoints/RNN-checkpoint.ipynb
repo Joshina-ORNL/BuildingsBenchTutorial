{
 "cells": [
  {
   "cell_type": "markdown",
   "id": "b57bc3ab-7525-41b3-8d2f-fdaa2d593404",
   "metadata": {},
   "source": [
    "# Use MyModel-IDEAL Model"
   ]
  },
  {
   "cell_type": "code",
   "execution_count": 1,
   "id": "a5cfe292-a0a7-40a1-865f-bcb7bdda0d1c",
   "metadata": {},
   "outputs": [
    {
     "name": "stderr",
     "output_type": "stream",
     "text": [
      "/global/homes/n/nrushad/.conda/envs/BuildingsBenchEnv/lib/python3.10/site-packages/tqdm/auto.py:21: TqdmWarning: IProgress not found. Please update jupyter and ipywidgets. See https://ipywidgets.readthedocs.io/en/stable/user_install.html\n",
      "  from .autonotebook import tqdm as notebook_tqdm\n"
     ]
    }
   ],
   "source": [
    "import warnings\n",
    "warnings.filterwarnings(\"ignore\", category=FutureWarning)\n",
    "import torch\n",
    "import tomli\n",
    "import matplotlib.pyplot as plt\n",
    "from os import environ\n",
    "from pathlib import Path\n",
    "from buildings_bench import load_torch_dataset\n",
    "from buildings_bench.models import model_factory"
   ]
  },
  {
   "cell_type": "code",
   "execution_count": 2,
   "id": "cdaeff6e-475d-460d-8bd3-aad9551fa2af",
   "metadata": {},
   "outputs": [],
   "source": [
    "class DataHandler:\n",
    "    def __init__(self): pass\n",
    "\n",
    "    def load_dataset(self, dataset_name, scaler_transform):\n",
    "        dataset = load_torch_dataset(\n",
    "            name=dataset_name,\n",
    "            apply_scaler_transform=scaler_transform,\n",
    "            scaler_transform_path=Path(environ[\"TRANSFORM_PATH\"])\n",
    "        )\n",
    "        return dataset\n",
    "\n",
    "    def create_dataloader(self, building_dataset):\n",
    "        dataloader = torch.utils.data.DataLoader(\n",
    "                        building_dataset,\n",
    "                        batch_size=360,\n",
    "                        shuffle=False)\n",
    "        return dataloader"
   ]
  },
  {
   "cell_type": "code",
   "execution_count": 3,
   "id": "2734c5f7-043e-42e5-9977-2728106057b2",
   "metadata": {},
   "outputs": [],
   "source": [
    "import torch\n",
    "import torch.nn as nn\n",
    "\n",
    "class MyRNN(nn.Module):    \n",
    "    def __init__(self,\n",
    "                 hidden_size=3,\n",
    "                 lstm_layers=1,\n",
    "                 context_len=168,\n",
    "                 pred_len=24,\n",
    "                 continuous_loads=True,\n",
    "                 **args):\n",
    "        super().__init__()\n",
    "\n",
    "        self.context_len = context_len\n",
    "        self.hidden_size = hidden_size\n",
    "        self.pred_len = pred_len\n",
    "        self.continuous_loads = continuous_loads\n",
    "        self.lstm_layers = lstm_layers\n",
    "\n",
    "        self.power_embedding = nn.Linear(1, 64)\n",
    "        self.building_embedding = nn.Embedding(2, 32)\n",
    "        self.lat_embedding = nn.Linear(1, 32)\n",
    "        self.lon_embedding = nn.Linear(1, 32)\n",
    "\n",
    "        self.encoder = nn.LSTM(160, hidden_size, num_layers=lstm_layers, batch_first=True)\n",
    "        self.decoder = nn.LSTM(160, hidden_size, num_layers=lstm_layers, batch_first=True)\n",
    "        self.output_layer = nn.Linear(hidden_size, 1)  # Final prediction\n",
    "\n",
    "    def forward(self, x):\n",
    "        # Embedding input features\n",
    "        lat = self.lat_embedding(x['latitude'])                  # [B, T, 32]\n",
    "        lon = self.lon_embedding(x['longitude'])                 # [B, T, 32]\n",
    "        btype = self.building_embedding(x['building_type'].squeeze(-1))  # [B, T, 32]\n",
    "        load = self.power_embedding(x['load'])     # [B, T, 64]\n",
    "\n",
    "        time_series_inputs = [lat, lon, btype, load]\n",
    "\n",
    "        # Concatenate all embeddings\n",
    "        time_series_embed = torch.cat(time_series_inputs, dim=2)  # [B, T, 256]\n",
    "\n",
    "        # Encode context sequence\n",
    "        context_seq = time_series_embed[:, :self.context_len, :]  # [B, 168, 256]\n",
    "        _, (h_n, c_n) = self.encoder(context_seq)  # hidden and cell states for decoder\n",
    "\n",
    "        # Prepare decoder input (repeat last context embedding)\n",
    "        decoder_input = time_series_embed[:, self.context_len - 1:self.context_len, :].repeat(1, self.pred_len, 1)\n",
    "\n",
    "        # Decode\n",
    "        decoder_out, _ = self.decoder(decoder_input, (h_n, c_n))  # [B, 24, hidden_size]\n",
    "        \n",
    "        return decoder_out\n",
    "\n",
    "    def predict(self, x):\n",
    "        out = self.forward(x)\n",
    "        output = self.output_layer(out).squeeze(-1)  # [B, 24]\n",
    "        return output"
   ]
  },
  {
   "cell_type": "code",
   "execution_count": 4,
   "id": "7556ef40-83f8-4330-b3d2-1323ffba36ce",
   "metadata": {},
   "outputs": [],
   "source": [
    "def main(model_name, dataset_name, scaler_transform, device):\n",
    "    handler = DataHandler()\n",
    "    dataset = handler.load_dataset(dataset_name, scaler_transform)    \n",
    "\n",
    "    model = MyRNN()\n",
    "    model = model.to(device)\n",
    "\n",
    "    target_list = []\n",
    "    prediction_list = []\n",
    "\n",
    "    \n",
    "    for building_id, building_dataset in dataset:\n",
    "            \n",
    "        inverse_transform = building_dataset.datasets[0].load_transform.undo_transform\n",
    "        dataloader = handler.create_dataloader(building_dataset)\n",
    "            \n",
    "        for batch in dataloader:\n",
    "            for key, value in batch.items():\n",
    "                batch[key] = value.to(device)\n",
    "\n",
    "            with torch.no_grad():\n",
    "                predictions = model.predict(batch)\n",
    "  \n",
    "        targets = batch['load'][:, 168:]\n",
    "        targets = inverse_transform(targets)\n",
    "        target_list.append(targets.detach().cpu())\n",
    "\n",
    "        predictions = inverse_transform(predictions)\n",
    "        prediction_list.append(predictions.detach().cpu())\n",
    "\n",
    "    prediction_list = torch.cat(prediction_list)\n",
    "    target_list = torch.cat(target_list)\n",
    "    \n",
    "    return prediction_list, target_list"
   ]
  },
  {
   "cell_type": "code",
   "execution_count": 5,
   "id": "c7f9e4bf-d884-480d-a774-2fe2ff9e58c7",
   "metadata": {},
   "outputs": [
    {
     "data": {
      "image/png": "[encoded data removed]",
      "text/plain": [
       "<Figure size 640x480 with 1 Axes>"
      ]
     },
     "metadata": {},
     "output_type": "display_data"
    }
   ],
   "source": [
    "if __name__ == \"__main__\":\n",
    "\n",
    "    DATASET = 'ideal' # Electricity | SMART | Ideal | lcl \n",
    "    DEVICE = 'cuda:0'\n",
    "    MODEL = 'MyModel' \n",
    "    SCALER_TRANSFORM = 'boxcox'\n",
    "\n",
    "    PATH = '/pscratch/sd/n/nrushad'\n",
    "    environ[\"PATH\"] = PATH\n",
    "    \n",
    "    environ[\"REPO_PATH\"] = f'{PATH}/BuildingsBenchTutorial/BuildingsBench/'\n",
    "    environ[\"BUILDINGS_BENCH\"] = f'{PATH}/Dataset'\n",
    "    environ[\"TRANSFORM_PATH\"] = f'{PATH}/Dataset/metadata/transforms'\n",
    "    \n",
    "    prediction_list, target_list = main(MODEL, DATASET, SCALER_TRANSFORM, DEVICE)\n",
    "    plt.plot(prediction_list[2].squeeze())\n",
    "    plt.plot(target_list[2].squeeze())"
   ]
  },
  {
   "cell_type": "code",
   "execution_count": null,
   "id": "43b1e0a7-6f30-4168-acf3-7b542c63f419",
   "metadata": {},
   "outputs": [],
   "source": []
  }
 ],
 "metadata": {
  "kernelspec": {
   "display_name": "BuildingsBenchKernel",
   "language": "python",
   "name": "env"
  },
  "language_info": {
   "codemirror_mode": {
    "name": "ipython",
    "version": 3
   },
   "file_extension": ".py",
   "mimetype": "text/x-python",
   "name": "python",
   "nbconvert_exporter": "python",
   "pygments_lexer": "ipython3",
   "version": "3.10.18"
  }
 },
 "nbformat": 4,
 "nbformat_minor": 5
}
