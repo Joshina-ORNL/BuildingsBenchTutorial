{
 "cells": [
  {
   "cell_type": "markdown",
   "id": "b57bc3ab-7525-41b3-8d2f-fdaa2d593404",
   "metadata": {},
   "source": [
    "# Use Pre-Trained Model"
   ]
  },
  {
   "cell_type": "code",
   "execution_count": 1,
   "id": "a5cfe292-a0a7-40a1-865f-bcb7bdda0d1c",
   "metadata": {},
   "outputs": [
    {
     "name": "stderr",
     "output_type": "stream",
     "text": [
      "/global/homes/n/nrushad/.conda/envs/BuildingsBenchEnv/lib/python3.10/site-packages/tqdm/auto.py:21: TqdmWarning: IProgress not found. Please update jupyter and ipywidgets. See https://ipywidgets.readthedocs.io/en/stable/user_install.html\n",
      "  from .autonotebook import tqdm as notebook_tqdm\n"
     ]
    }
   ],
   "source": [
    "import warnings\n",
    "warnings.filterwarnings(\"ignore\", category=FutureWarning)\n",
    "import torch\n",
    "import tomli\n",
    "import matplotlib.pyplot as plt\n",
    "from os import environ\n",
    "from pathlib import Path\n",
    "from buildings_bench import load_torch_dataset\n",
    "from buildings_bench.models import model_factory"
   ]
  },
  {
   "cell_type": "code",
   "execution_count": 2,
   "id": "cdaeff6e-475d-460d-8bd3-aad9551fa2af",
   "metadata": {},
   "outputs": [],
   "source": [
    "class DataHandler:\n",
    "    def __init__(self): pass\n",
    "\n",
    "    def load_dataset(self, dataset_name, scaler_transform):\n",
    "        dataset = load_torch_dataset(\n",
    "            name=dataset_name,\n",
    "            apply_scaler_transform=scaler_transform,\n",
    "            scaler_transform_path=Path(environ[\"TRANSFORM_PATH\"])\n",
    "        )\n",
    "        return dataset\n",
    "\n",
    "    def create_dataloader(self, building_dataset):\n",
    "        dataloader = torch.utils.data.DataLoader(\n",
    "                        building_dataset,\n",
    "                        batch_size=360,\n",
    "                        shuffle=False)\n",
    "        return dataloader"
   ]
  },
  {
   "cell_type": "code",
   "execution_count": 3,
   "id": "333f0da1-1998-4ded-9b66-516d3b8434e1",
   "metadata": {},
   "outputs": [],
   "source": [
    "class Model:\n",
    "\n",
    "    class BuildingsBenchTransformer:\n",
    "        def __init__(self):pass\n",
    "\n",
    "        def load_model(self, model_name, device):\n",
    "            tomli_args = tomli.load(open(environ[\"CONFIG_PATH\"],'rb'))\n",
    "            model_args = tomli_args['model']\n",
    "            model, _, predict = model_factory(model_name, model_args)\n",
    "            context_len = model.context_len\n",
    "            model = model.to(device)\n",
    "            model = model.load_from_checkpoint(Path(environ[\"CHECKPOINT_PATH\"]))\n",
    "            return model, predict, context_len"
   ]
  },
  {
   "cell_type": "code",
   "execution_count": 4,
   "id": "7556ef40-83f8-4330-b3d2-1323ffba36ce",
   "metadata": {},
   "outputs": [],
   "source": [
    "def main(model_name, dataset_name, scaler_transform, device):\n",
    "    handler = DataHandler()\n",
    "    dataset = handler.load_dataset(dataset_name, scaler_transform)    \n",
    "\n",
    "    BuildingsBenchTransformer = Model.BuildingsBenchTransformer()\n",
    "    model, predict, context_len = BuildingsBenchTransformer.load_model(model_name, device)\n",
    "\n",
    "    target_list = []\n",
    "    prediction_list = []\n",
    "    \n",
    "    for building_id, building_dataset in dataset:\n",
    "        \n",
    "        inverse_transform = building_dataset.datasets[0].load_transform.undo_transform\n",
    "        dataloader = handler.create_dataloader(building_dataset)\n",
    "        \n",
    "        for batch in dataloader:\n",
    "            for key, value in batch.items():\n",
    "                batch[key] = value.to(device)\n",
    "\n",
    "            with torch.cuda.amp.autocast(enabled=(device == 'cuda:0')):\n",
    "                predictions, _ = predict(batch)\n",
    "        \n",
    "            targets = batch['load'][:, context_len:]\n",
    "            targets = inverse_transform(targets)\n",
    "            target_list.append(targets.detach().cpu())\n",
    "            \n",
    "            predictions = inverse_transform(predictions)\n",
    "            prediction_list.append(predictions.detach().cpu())\n",
    "\n",
    "    prediction_list = torch.cat(prediction_list)\n",
    "    target_list = torch.cat(target_list)\n",
    "    \n",
    "    return prediction_list, target_list"
   ]
  },
  {
   "cell_type": "code",
   "execution_count": null,
   "id": "c7f9e4bf-d884-480d-a774-2fe2ff9e58c7",
   "metadata": {},
   "outputs": [],
   "source": [
    "if __name__ == \"__main__\":\n",
    "\n",
    "    DATASET = 'electricity'\n",
    "    DEVICE = 'cuda:0'\n",
    "    MODEL = 'TransformerWithGaussian-L'\n",
    "    CHECKPOINT = 'Transformer_Gaussian_L.pt'\n",
    "    SCALER_TRANSFORM = 'boxcox'\n",
    "\n",
    "    PATH = '/pscratch/sd/n/nrushad'\n",
    "    environ[\"PATH\"] = PATH\n",
    "    \n",
    "    environ[\"REPO_PATH\"] = f'{PATH}/BuildingsBenchTutorial/BuildingsBench/'\n",
    "    environ[\"CONFIG_PATH\"] = f'{PATH}/BuildingsBenchTutorial/BuildingsBench/buildings_bench/configs/{MODEL}.toml'\n",
    "    environ[\"BUILDINGS_BENCH\"] = f'{PATH}/Dataset'\n",
    "    environ[\"TRANSFORM_PATH\"] = f'{PATH}/Dataset/metadata/transforms'\n",
    "\n",
    "    environ[\"CHECKPOINT_PATH\"] = f'{PATH}/checkpoints/{CHECKPOINT}'\n",
    "    \n",
    "    prediction_list, target_list = main(MODEL, DATASET, SCALER_TRANSFORM, DEVICE)\n",
    "    plt.plot(prediction_list[0].squeeze())\n",
    "    plt.plot(target_list[0].squeeze())"
   ]
  },
  {
   "cell_type": "markdown",
   "id": "95d6bce4-4951-4ffb-9b6f-f7ed0f315eda",
   "metadata": {},
   "source": [
    "'TransformerWithGaussian-S'\n",
    "Electricity\n",
    "SMART\n",
    "Ideal\n",
    "lcl # Intensive\n",
    "\n",
    "\n",
    "'TransformerWithGaussian-M'\n",
    "Electricity # Intensive\n",
    "smart\n",
    "Ideal\n",
    "lcl\n",
    "\n",
    "'TransformerWithGaussian-L'\n",
    "Electricity # Instensive\n"
   ]
  }
 ],
 "metadata": {
  "kernelspec": {
   "display_name": "BuildingsBenchKernel",
   "language": "python",
   "name": "env"
  },
  "language_info": {
   "codemirror_mode": {
    "name": "ipython",
    "version": 3
   },
   "file_extension": ".py",
   "mimetype": "text/x-python",
   "name": "python",
   "nbconvert_exporter": "python",
   "pygments_lexer": "ipython3",
   "version": "3.10.18"
  }
 },
 "nbformat": 4,
 "nbformat_minor": 5
}
